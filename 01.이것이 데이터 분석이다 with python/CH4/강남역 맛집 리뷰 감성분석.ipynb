{
 "cells": [
  {
   "cell_type": "markdown",
   "id": "ba77846b",
   "metadata": {},
   "source": [
    "# 강남역 맛집 리뷰로 알아보는 감성분류"
   ]
  },
  {
   "cell_type": "code",
   "execution_count": 1,
   "id": "1378f09d",
   "metadata": {},
   "outputs": [],
   "source": [
    "import pandas as pd\n",
    "import numpy as np\n",
    "import matplotlib.pyplot as plt\n",
    "import seaborn as sns"
   ]
  },
  {
   "cell_type": "markdown",
   "id": "ad14cc39",
   "metadata": {},
   "source": [
    "### [카카오맵 리뷰 크롤링]"
   ]
  },
  {
   "cell_type": "code",
   "execution_count": 4,
   "id": "e3f62c1c",
   "metadata": {},
   "outputs": [
    {
     "name": "stderr",
     "output_type": "stream",
     "text": [
      "C:\\Users\\rladl\\AppData\\Local\\Temp\\ipykernel_18448\\2652852456.py:16: DeprecationWarning: executable_path has been deprecated, please pass in a Service object\n",
      "  driver = webdriver.Chrome(path)\n",
      "C:\\Users\\rladl\\AppData\\Local\\Temp\\ipykernel_18448\\2652852456.py:22: DeprecationWarning: find_element_by_xpath is deprecated. Please use find_element(by=By.XPATH, value=xpath) instead\n",
      "  searchbox = driver.find_element_by_xpath('//*[@id=\"search.keyword.query\"]')\n",
      "C:\\Users\\rladl\\AppData\\Local\\Temp\\ipykernel_18448\\2652852456.py:26: DeprecationWarning: find_element_by_xpath is deprecated. Please use find_element(by=By.XPATH, value=xpath) instead\n",
      "  searchbutton = driver.find_element_by_xpath('//*[@id=\"search.keyword.submit\"]')\n"
     ]
    },
    {
     "name": "stdout",
     "output_type": "stream",
     "text": [
      "https://place.map.kakao.com/95713992\n",
      "https://place.map.kakao.com/1503746075\n",
      "https://place.map.kakao.com/741391811\n",
      "https://place.map.kakao.com/2011092566\n",
      "https://place.map.kakao.com/1648266796\n",
      "https://place.map.kakao.com/168079537\n",
      "https://place.map.kakao.com/27238067\n",
      "https://place.map.kakao.com/1052874675\n",
      "https://place.map.kakao.com/263830255\n",
      "https://place.map.kakao.com/1511737742\n",
      "https://place.map.kakao.com/1780387311\n",
      "https://place.map.kakao.com/1111006760\n",
      "https://place.map.kakao.com/12997393\n",
      "https://place.map.kakao.com/1907052666\n",
      "https://place.map.kakao.com/27511865\n"
     ]
    }
   ],
   "source": [
    "from selenium import webdriver\n",
    "from bs4 import BeautifulSoup\n",
    "import re\n",
    "import time\n",
    "\n",
    "# 크롬 드라이버 위치\n",
    "path = 'C:\\\\Users\\\\rladl\\\\Jupyter.study\\\\driver\\\\chromedriver'\n",
    "\n",
    "# 윈도우용 크롬 웹드라이버 실행 경로\n",
    "excutable_path = 'chromedriver.exe'\n",
    "\n",
    "# 크롤링할 사이트 주소 정의\n",
    "source_url = 'https://map.kakao.com/'\n",
    "\n",
    "# 크롬 드라이버 사용\n",
    "driver = webdriver.Chrome(path)\n",
    "\n",
    "# 카카오 지도에 접속\n",
    "driver.get(source_url)\n",
    "\n",
    "# 검색창에 검색어를 찾은 후, 검색어 입력\n",
    "searchbox = driver.find_element_by_xpath('//*[@id=\"search.keyword.query\"]')\n",
    "searchbox.send_keys(\"강남역 고기집\")\n",
    "\n",
    "# 검색버튼을 눌러서 결과를 가져오기\n",
    "searchbutton = driver.find_element_by_xpath('//*[@id=\"search.keyword.submit\"]')\n",
    "driver.execute_script(\"arguments[0].click();\", searchbutton)\n",
    "\n",
    "# 검색 결과를 가져올 시간 기다리기\n",
    "time.sleep(2)\n",
    "\n",
    "# 검색 결과의 페이지 소스를 가져오기\n",
    "html = driver.page_source\n",
    "\n",
    "# Beautifulsoup을 이용하여 html 정보를 파싱하기\n",
    "soup = BeautifulSoup(html, \"html.parser\")\n",
    "moreviews = soup.find_all(name='a', attrs={\"class\":\"moreview\"}) # 상세보기 버튼\n",
    "\n",
    "# a태그의 href 속성을 리스트로 추출하여, 크롤링 할 페이지 리스트를 생성한다.\n",
    "page_urls = []\n",
    "for moreview in moreviews:\n",
    "    page_url = moreview.get('href')\n",
    "    print(page_url)\n",
    "    page_urls.append(page_url)\n",
    "\n",
    "# 크롬브라우저 종료\n",
    "driver.close()"
   ]
  },
  {
   "cell_type": "code",
   "execution_count": 7,
   "id": "629bfb34",
   "metadata": {},
   "outputs": [
    {
     "name": "stdout",
     "output_type": "stream",
     "text": [
      "['https://place.map.kakao.com/95713992', 'https://place.map.kakao.com/1503746075', 'https://place.map.kakao.com/741391811', 'https://place.map.kakao.com/2011092566', 'https://place.map.kakao.com/1648266796', 'https://place.map.kakao.com/168079537', 'https://place.map.kakao.com/27238067', 'https://place.map.kakao.com/1052874675', 'https://place.map.kakao.com/263830255', 'https://place.map.kakao.com/1511737742', 'https://place.map.kakao.com/1780387311', 'https://place.map.kakao.com/1111006760', 'https://place.map.kakao.com/12997393', 'https://place.map.kakao.com/1907052666', 'https://place.map.kakao.com/27511865']\n",
      "['https://place.map.kakao.com/95713992', 'https://place.map.kakao.com/1503746075', 'https://place.map.kakao.com/741391811', 'https://place.map.kakao.com/1648266796', 'https://place.map.kakao.com/168079537', 'https://place.map.kakao.com/27238067', 'https://place.map.kakao.com/1052874675', 'https://place.map.kakao.com/263830255', 'https://place.map.kakao.com/1511737742', 'https://place.map.kakao.com/1780387311', 'https://place.map.kakao.com/1111006760', 'https://place.map.kakao.com/12997393', 'https://place.map.kakao.com/1907052666', 'https://place.map.kakao.com/27511865']\n"
     ]
    }
   ],
   "source": [
    "print(page_urls)\n",
    "page_urls.pop(3)\n",
    "print(page_urls)"
   ]
  },
  {
   "cell_type": "code",
   "execution_count": 9,
   "id": "7ac364ce",
   "metadata": {},
   "outputs": [
    {
     "name": "stderr",
     "output_type": "stream",
     "text": [
      "C:\\Users\\rladl\\AppData\\Local\\Temp\\ipykernel_18448\\1017872211.py:5: DeprecationWarning: executable_path has been deprecated, please pass in a Service object\n",
      "  driver = webdriver.Chrome(path)\n",
      "C:\\Users\\rladl\\AppData\\Local\\Temp\\ipykernel_18448\\1017872211.py:6: TqdmDeprecationWarning: This function will be removed in tqdm==5.0.0\n",
      "Please use `tqdm.notebook.tqdm` instead of `tqdm.tqdm_notebook`\n",
      "  for page_url in tqdm_notebook(page_urls):\n"
     ]
    },
    {
     "data": {
      "application/vnd.jupyter.widget-view+json": {
       "model_id": "fcbc81ea47ad46cb947267eb139d2040",
       "version_major": 2,
       "version_minor": 0
      },
      "text/plain": [
       "  0%|          | 0/14 [00:00<?, ?it/s]"
      ]
     },
     "metadata": {},
     "output_type": "display_data"
    },
    {
     "name": "stderr",
     "output_type": "stream",
     "text": [
      "C:\\Users\\rladl\\AppData\\Local\\Temp\\ipykernel_18448\\1017872211.py:30: FutureWarning: The frame.append method is deprecated and will be removed from pandas in a future version. Use pandas.concat instead.\n",
      "  df = df.append(series, ignore_index=True)\n",
      "C:\\Users\\rladl\\AppData\\Local\\Temp\\ipykernel_18448\\1017872211.py:30: FutureWarning: The frame.append method is deprecated and will be removed from pandas in a future version. Use pandas.concat instead.\n",
      "  df = df.append(series, ignore_index=True)\n",
      "C:\\Users\\rladl\\AppData\\Local\\Temp\\ipykernel_18448\\1017872211.py:30: FutureWarning: The frame.append method is deprecated and will be removed from pandas in a future version. Use pandas.concat instead.\n",
      "  df = df.append(series, ignore_index=True)\n",
      "C:\\Users\\rladl\\AppData\\Local\\Temp\\ipykernel_18448\\1017872211.py:30: FutureWarning: The frame.append method is deprecated and will be removed from pandas in a future version. Use pandas.concat instead.\n",
      "  df = df.append(series, ignore_index=True)\n",
      "C:\\Users\\rladl\\AppData\\Local\\Temp\\ipykernel_18448\\1017872211.py:30: FutureWarning: The frame.append method is deprecated and will be removed from pandas in a future version. Use pandas.concat instead.\n",
      "  df = df.append(series, ignore_index=True)\n",
      "C:\\Users\\rladl\\AppData\\Local\\Temp\\ipykernel_18448\\1017872211.py:37: DeprecationWarning: find_element_by_xpath is deprecated. Please use find_element(by=By.XPATH, value=xpath) instead\n",
      "  another_reviews = driver.find_element_by_xpath(\"//a[@data-page='\" + str(button_num) + \"']\")\n",
      "C:\\Users\\rladl\\AppData\\Local\\Temp\\ipykernel_18448\\1017872211.py:55: FutureWarning: The frame.append method is deprecated and will be removed from pandas in a future version. Use pandas.concat instead.\n",
      "  df = df.append(series, ignore_index=True)\n",
      "C:\\Users\\rladl\\AppData\\Local\\Temp\\ipykernel_18448\\1017872211.py:55: FutureWarning: The frame.append method is deprecated and will be removed from pandas in a future version. Use pandas.concat instead.\n",
      "  df = df.append(series, ignore_index=True)\n",
      "C:\\Users\\rladl\\AppData\\Local\\Temp\\ipykernel_18448\\1017872211.py:55: FutureWarning: The frame.append method is deprecated and will be removed from pandas in a future version. Use pandas.concat instead.\n",
      "  df = df.append(series, ignore_index=True)\n",
      "C:\\Users\\rladl\\AppData\\Local\\Temp\\ipykernel_18448\\1017872211.py:55: FutureWarning: The frame.append method is deprecated and will be removed from pandas in a future version. Use pandas.concat instead.\n",
      "  df = df.append(series, ignore_index=True)\n",
      "C:\\Users\\rladl\\AppData\\Local\\Temp\\ipykernel_18448\\1017872211.py:55: FutureWarning: The frame.append method is deprecated and will be removed from pandas in a future version. Use pandas.concat instead.\n",
      "  df = df.append(series, ignore_index=True)\n",
      "C:\\Users\\rladl\\AppData\\Local\\Temp\\ipykernel_18448\\1017872211.py:37: DeprecationWarning: find_element_by_xpath is deprecated. Please use find_element(by=By.XPATH, value=xpath) instead\n",
      "  another_reviews = driver.find_element_by_xpath(\"//a[@data-page='\" + str(button_num) + \"']\")\n",
      "C:\\Users\\rladl\\AppData\\Local\\Temp\\ipykernel_18448\\1017872211.py:55: FutureWarning: The frame.append method is deprecated and will be removed from pandas in a future version. Use pandas.concat instead.\n",
      "  df = df.append(series, ignore_index=True)\n",
      "C:\\Users\\rladl\\AppData\\Local\\Temp\\ipykernel_18448\\1017872211.py:55: FutureWarning: The frame.append method is deprecated and will be removed from pandas in a future version. Use pandas.concat instead.\n",
      "  df = df.append(series, ignore_index=True)\n",
      "C:\\Users\\rladl\\AppData\\Local\\Temp\\ipykernel_18448\\1017872211.py:55: FutureWarning: The frame.append method is deprecated and will be removed from pandas in a future version. Use pandas.concat instead.\n",
      "  df = df.append(series, ignore_index=True)\n",
      "C:\\Users\\rladl\\AppData\\Local\\Temp\\ipykernel_18448\\1017872211.py:55: FutureWarning: The frame.append method is deprecated and will be removed from pandas in a future version. Use pandas.concat instead.\n",
      "  df = df.append(series, ignore_index=True)\n",
      "C:\\Users\\rladl\\AppData\\Local\\Temp\\ipykernel_18448\\1017872211.py:55: FutureWarning: The frame.append method is deprecated and will be removed from pandas in a future version. Use pandas.concat instead.\n",
      "  df = df.append(series, ignore_index=True)\n",
      "C:\\Users\\rladl\\AppData\\Local\\Temp\\ipykernel_18448\\1017872211.py:37: DeprecationWarning: find_element_by_xpath is deprecated. Please use find_element(by=By.XPATH, value=xpath) instead\n",
      "  another_reviews = driver.find_element_by_xpath(\"//a[@data-page='\" + str(button_num) + \"']\")\n",
      "C:\\Users\\rladl\\AppData\\Local\\Temp\\ipykernel_18448\\1017872211.py:55: FutureWarning: The frame.append method is deprecated and will be removed from pandas in a future version. Use pandas.concat instead.\n",
      "  df = df.append(series, ignore_index=True)\n",
      "C:\\Users\\rladl\\AppData\\Local\\Temp\\ipykernel_18448\\1017872211.py:55: FutureWarning: The frame.append method is deprecated and will be removed from pandas in a future version. Use pandas.concat instead.\n",
      "  df = df.append(series, ignore_index=True)\n",
      "C:\\Users\\rladl\\AppData\\Local\\Temp\\ipykernel_18448\\1017872211.py:55: FutureWarning: The frame.append method is deprecated and will be removed from pandas in a future version. Use pandas.concat instead.\n",
      "  df = df.append(series, ignore_index=True)\n",
      "C:\\Users\\rladl\\AppData\\Local\\Temp\\ipykernel_18448\\1017872211.py:55: FutureWarning: The frame.append method is deprecated and will be removed from pandas in a future version. Use pandas.concat instead.\n",
      "  df = df.append(series, ignore_index=True)\n",
      "C:\\Users\\rladl\\AppData\\Local\\Temp\\ipykernel_18448\\1017872211.py:55: FutureWarning: The frame.append method is deprecated and will be removed from pandas in a future version. Use pandas.concat instead.\n",
      "  df = df.append(series, ignore_index=True)\n",
      "C:\\Users\\rladl\\AppData\\Local\\Temp\\ipykernel_18448\\1017872211.py:37: DeprecationWarning: find_element_by_xpath is deprecated. Please use find_element(by=By.XPATH, value=xpath) instead\n",
      "  another_reviews = driver.find_element_by_xpath(\"//a[@data-page='\" + str(button_num) + \"']\")\n",
      "C:\\Users\\rladl\\AppData\\Local\\Temp\\ipykernel_18448\\1017872211.py:55: FutureWarning: The frame.append method is deprecated and will be removed from pandas in a future version. Use pandas.concat instead.\n",
      "  df = df.append(series, ignore_index=True)\n",
      "C:\\Users\\rladl\\AppData\\Local\\Temp\\ipykernel_18448\\1017872211.py:55: FutureWarning: The frame.append method is deprecated and will be removed from pandas in a future version. Use pandas.concat instead.\n",
      "  df = df.append(series, ignore_index=True)\n",
      "C:\\Users\\rladl\\AppData\\Local\\Temp\\ipykernel_18448\\1017872211.py:55: FutureWarning: The frame.append method is deprecated and will be removed from pandas in a future version. Use pandas.concat instead.\n",
      "  df = df.append(series, ignore_index=True)\n",
      "C:\\Users\\rladl\\AppData\\Local\\Temp\\ipykernel_18448\\1017872211.py:55: FutureWarning: The frame.append method is deprecated and will be removed from pandas in a future version. Use pandas.concat instead.\n",
      "  df = df.append(series, ignore_index=True)\n",
      "C:\\Users\\rladl\\AppData\\Local\\Temp\\ipykernel_18448\\1017872211.py:55: FutureWarning: The frame.append method is deprecated and will be removed from pandas in a future version. Use pandas.concat instead.\n",
      "  df = df.append(series, ignore_index=True)\n",
      "C:\\Users\\rladl\\AppData\\Local\\Temp\\ipykernel_18448\\1017872211.py:30: FutureWarning: The frame.append method is deprecated and will be removed from pandas in a future version. Use pandas.concat instead.\n",
      "  df = df.append(series, ignore_index=True)\n",
      "C:\\Users\\rladl\\AppData\\Local\\Temp\\ipykernel_18448\\1017872211.py:30: FutureWarning: The frame.append method is deprecated and will be removed from pandas in a future version. Use pandas.concat instead.\n",
      "  df = df.append(series, ignore_index=True)\n",
      "C:\\Users\\rladl\\AppData\\Local\\Temp\\ipykernel_18448\\1017872211.py:30: FutureWarning: The frame.append method is deprecated and will be removed from pandas in a future version. Use pandas.concat instead.\n",
      "  df = df.append(series, ignore_index=True)\n",
      "C:\\Users\\rladl\\AppData\\Local\\Temp\\ipykernel_18448\\1017872211.py:30: FutureWarning: The frame.append method is deprecated and will be removed from pandas in a future version. Use pandas.concat instead.\n",
      "  df = df.append(series, ignore_index=True)\n",
      "C:\\Users\\rladl\\AppData\\Local\\Temp\\ipykernel_18448\\1017872211.py:30: FutureWarning: The frame.append method is deprecated and will be removed from pandas in a future version. Use pandas.concat instead.\n",
      "  df = df.append(series, ignore_index=True)\n",
      "C:\\Users\\rladl\\AppData\\Local\\Temp\\ipykernel_18448\\1017872211.py:37: DeprecationWarning: find_element_by_xpath is deprecated. Please use find_element(by=By.XPATH, value=xpath) instead\n",
      "  another_reviews = driver.find_element_by_xpath(\"//a[@data-page='\" + str(button_num) + \"']\")\n"
     ]
    },
    {
     "name": "stderr",
     "output_type": "stream",
     "text": [
      "C:\\Users\\rladl\\AppData\\Local\\Temp\\ipykernel_18448\\1017872211.py:55: FutureWarning: The frame.append method is deprecated and will be removed from pandas in a future version. Use pandas.concat instead.\n",
      "  df = df.append(series, ignore_index=True)\n",
      "C:\\Users\\rladl\\AppData\\Local\\Temp\\ipykernel_18448\\1017872211.py:55: FutureWarning: The frame.append method is deprecated and will be removed from pandas in a future version. Use pandas.concat instead.\n",
      "  df = df.append(series, ignore_index=True)\n",
      "C:\\Users\\rladl\\AppData\\Local\\Temp\\ipykernel_18448\\1017872211.py:55: FutureWarning: The frame.append method is deprecated and will be removed from pandas in a future version. Use pandas.concat instead.\n",
      "  df = df.append(series, ignore_index=True)\n",
      "C:\\Users\\rladl\\AppData\\Local\\Temp\\ipykernel_18448\\1017872211.py:55: FutureWarning: The frame.append method is deprecated and will be removed from pandas in a future version. Use pandas.concat instead.\n",
      "  df = df.append(series, ignore_index=True)\n",
      "C:\\Users\\rladl\\AppData\\Local\\Temp\\ipykernel_18448\\1017872211.py:55: FutureWarning: The frame.append method is deprecated and will be removed from pandas in a future version. Use pandas.concat instead.\n",
      "  df = df.append(series, ignore_index=True)\n",
      "C:\\Users\\rladl\\AppData\\Local\\Temp\\ipykernel_18448\\1017872211.py:37: DeprecationWarning: find_element_by_xpath is deprecated. Please use find_element(by=By.XPATH, value=xpath) instead\n",
      "  another_reviews = driver.find_element_by_xpath(\"//a[@data-page='\" + str(button_num) + \"']\")\n",
      "C:\\Users\\rladl\\AppData\\Local\\Temp\\ipykernel_18448\\1017872211.py:55: FutureWarning: The frame.append method is deprecated and will be removed from pandas in a future version. Use pandas.concat instead.\n",
      "  df = df.append(series, ignore_index=True)\n",
      "C:\\Users\\rladl\\AppData\\Local\\Temp\\ipykernel_18448\\1017872211.py:55: FutureWarning: The frame.append method is deprecated and will be removed from pandas in a future version. Use pandas.concat instead.\n",
      "  df = df.append(series, ignore_index=True)\n",
      "C:\\Users\\rladl\\AppData\\Local\\Temp\\ipykernel_18448\\1017872211.py:55: FutureWarning: The frame.append method is deprecated and will be removed from pandas in a future version. Use pandas.concat instead.\n",
      "  df = df.append(series, ignore_index=True)\n",
      "C:\\Users\\rladl\\AppData\\Local\\Temp\\ipykernel_18448\\1017872211.py:55: FutureWarning: The frame.append method is deprecated and will be removed from pandas in a future version. Use pandas.concat instead.\n",
      "  df = df.append(series, ignore_index=True)\n",
      "C:\\Users\\rladl\\AppData\\Local\\Temp\\ipykernel_18448\\1017872211.py:55: FutureWarning: The frame.append method is deprecated and will be removed from pandas in a future version. Use pandas.concat instead.\n",
      "  df = df.append(series, ignore_index=True)\n",
      "C:\\Users\\rladl\\AppData\\Local\\Temp\\ipykernel_18448\\1017872211.py:37: DeprecationWarning: find_element_by_xpath is deprecated. Please use find_element(by=By.XPATH, value=xpath) instead\n",
      "  another_reviews = driver.find_element_by_xpath(\"//a[@data-page='\" + str(button_num) + \"']\")\n",
      "C:\\Users\\rladl\\AppData\\Local\\Temp\\ipykernel_18448\\1017872211.py:55: FutureWarning: The frame.append method is deprecated and will be removed from pandas in a future version. Use pandas.concat instead.\n",
      "  df = df.append(series, ignore_index=True)\n",
      "C:\\Users\\rladl\\AppData\\Local\\Temp\\ipykernel_18448\\1017872211.py:55: FutureWarning: The frame.append method is deprecated and will be removed from pandas in a future version. Use pandas.concat instead.\n",
      "  df = df.append(series, ignore_index=True)\n",
      "C:\\Users\\rladl\\AppData\\Local\\Temp\\ipykernel_18448\\1017872211.py:55: FutureWarning: The frame.append method is deprecated and will be removed from pandas in a future version. Use pandas.concat instead.\n",
      "  df = df.append(series, ignore_index=True)\n",
      "C:\\Users\\rladl\\AppData\\Local\\Temp\\ipykernel_18448\\1017872211.py:55: FutureWarning: The frame.append method is deprecated and will be removed from pandas in a future version. Use pandas.concat instead.\n",
      "  df = df.append(series, ignore_index=True)\n",
      "C:\\Users\\rladl\\AppData\\Local\\Temp\\ipykernel_18448\\1017872211.py:55: FutureWarning: The frame.append method is deprecated and will be removed from pandas in a future version. Use pandas.concat instead.\n",
      "  df = df.append(series, ignore_index=True)\n",
      "C:\\Users\\rladl\\AppData\\Local\\Temp\\ipykernel_18448\\1017872211.py:37: DeprecationWarning: find_element_by_xpath is deprecated. Please use find_element(by=By.XPATH, value=xpath) instead\n",
      "  another_reviews = driver.find_element_by_xpath(\"//a[@data-page='\" + str(button_num) + \"']\")\n",
      "C:\\Users\\rladl\\AppData\\Local\\Temp\\ipykernel_18448\\1017872211.py:55: FutureWarning: The frame.append method is deprecated and will be removed from pandas in a future version. Use pandas.concat instead.\n",
      "  df = df.append(series, ignore_index=True)\n",
      "C:\\Users\\rladl\\AppData\\Local\\Temp\\ipykernel_18448\\1017872211.py:55: FutureWarning: The frame.append method is deprecated and will be removed from pandas in a future version. Use pandas.concat instead.\n",
      "  df = df.append(series, ignore_index=True)\n",
      "C:\\Users\\rladl\\AppData\\Local\\Temp\\ipykernel_18448\\1017872211.py:55: FutureWarning: The frame.append method is deprecated and will be removed from pandas in a future version. Use pandas.concat instead.\n",
      "  df = df.append(series, ignore_index=True)\n",
      "C:\\Users\\rladl\\AppData\\Local\\Temp\\ipykernel_18448\\1017872211.py:55: FutureWarning: The frame.append method is deprecated and will be removed from pandas in a future version. Use pandas.concat instead.\n",
      "  df = df.append(series, ignore_index=True)\n",
      "C:\\Users\\rladl\\AppData\\Local\\Temp\\ipykernel_18448\\1017872211.py:55: FutureWarning: The frame.append method is deprecated and will be removed from pandas in a future version. Use pandas.concat instead.\n",
      "  df = df.append(series, ignore_index=True)\n",
      "C:\\Users\\rladl\\AppData\\Local\\Temp\\ipykernel_18448\\1017872211.py:30: FutureWarning: The frame.append method is deprecated and will be removed from pandas in a future version. Use pandas.concat instead.\n",
      "  df = df.append(series, ignore_index=True)\n",
      "C:\\Users\\rladl\\AppData\\Local\\Temp\\ipykernel_18448\\1017872211.py:30: FutureWarning: The frame.append method is deprecated and will be removed from pandas in a future version. Use pandas.concat instead.\n",
      "  df = df.append(series, ignore_index=True)\n",
      "C:\\Users\\rladl\\AppData\\Local\\Temp\\ipykernel_18448\\1017872211.py:30: FutureWarning: The frame.append method is deprecated and will be removed from pandas in a future version. Use pandas.concat instead.\n",
      "  df = df.append(series, ignore_index=True)\n",
      "C:\\Users\\rladl\\AppData\\Local\\Temp\\ipykernel_18448\\1017872211.py:30: FutureWarning: The frame.append method is deprecated and will be removed from pandas in a future version. Use pandas.concat instead.\n",
      "  df = df.append(series, ignore_index=True)\n",
      "C:\\Users\\rladl\\AppData\\Local\\Temp\\ipykernel_18448\\1017872211.py:30: FutureWarning: The frame.append method is deprecated and will be removed from pandas in a future version. Use pandas.concat instead.\n",
      "  df = df.append(series, ignore_index=True)\n",
      "C:\\Users\\rladl\\AppData\\Local\\Temp\\ipykernel_18448\\1017872211.py:37: DeprecationWarning: find_element_by_xpath is deprecated. Please use find_element(by=By.XPATH, value=xpath) instead\n",
      "  another_reviews = driver.find_element_by_xpath(\"//a[@data-page='\" + str(button_num) + \"']\")\n",
      "C:\\Users\\rladl\\AppData\\Local\\Temp\\ipykernel_18448\\1017872211.py:55: FutureWarning: The frame.append method is deprecated and will be removed from pandas in a future version. Use pandas.concat instead.\n",
      "  df = df.append(series, ignore_index=True)\n",
      "C:\\Users\\rladl\\AppData\\Local\\Temp\\ipykernel_18448\\1017872211.py:55: FutureWarning: The frame.append method is deprecated and will be removed from pandas in a future version. Use pandas.concat instead.\n",
      "  df = df.append(series, ignore_index=True)\n",
      "C:\\Users\\rladl\\AppData\\Local\\Temp\\ipykernel_18448\\1017872211.py:55: FutureWarning: The frame.append method is deprecated and will be removed from pandas in a future version. Use pandas.concat instead.\n",
      "  df = df.append(series, ignore_index=True)\n",
      "C:\\Users\\rladl\\AppData\\Local\\Temp\\ipykernel_18448\\1017872211.py:55: FutureWarning: The frame.append method is deprecated and will be removed from pandas in a future version. Use pandas.concat instead.\n",
      "  df = df.append(series, ignore_index=True)\n",
      "C:\\Users\\rladl\\AppData\\Local\\Temp\\ipykernel_18448\\1017872211.py:55: FutureWarning: The frame.append method is deprecated and will be removed from pandas in a future version. Use pandas.concat instead.\n",
      "  df = df.append(series, ignore_index=True)\n",
      "C:\\Users\\rladl\\AppData\\Local\\Temp\\ipykernel_18448\\1017872211.py:37: DeprecationWarning: find_element_by_xpath is deprecated. Please use find_element(by=By.XPATH, value=xpath) instead\n",
      "  another_reviews = driver.find_element_by_xpath(\"//a[@data-page='\" + str(button_num) + \"']\")\n"
     ]
    },
    {
     "name": "stderr",
     "output_type": "stream",
     "text": [
      "C:\\Users\\rladl\\AppData\\Local\\Temp\\ipykernel_18448\\1017872211.py:55: FutureWarning: The frame.append method is deprecated and will be removed from pandas in a future version. Use pandas.concat instead.\n",
      "  df = df.append(series, ignore_index=True)\n",
      "C:\\Users\\rladl\\AppData\\Local\\Temp\\ipykernel_18448\\1017872211.py:55: FutureWarning: The frame.append method is deprecated and will be removed from pandas in a future version. Use pandas.concat instead.\n",
      "  df = df.append(series, ignore_index=True)\n",
      "C:\\Users\\rladl\\AppData\\Local\\Temp\\ipykernel_18448\\1017872211.py:55: FutureWarning: The frame.append method is deprecated and will be removed from pandas in a future version. Use pandas.concat instead.\n",
      "  df = df.append(series, ignore_index=True)\n",
      "C:\\Users\\rladl\\AppData\\Local\\Temp\\ipykernel_18448\\1017872211.py:55: FutureWarning: The frame.append method is deprecated and will be removed from pandas in a future version. Use pandas.concat instead.\n",
      "  df = df.append(series, ignore_index=True)\n",
      "C:\\Users\\rladl\\AppData\\Local\\Temp\\ipykernel_18448\\1017872211.py:55: FutureWarning: The frame.append method is deprecated and will be removed from pandas in a future version. Use pandas.concat instead.\n",
      "  df = df.append(series, ignore_index=True)\n",
      "C:\\Users\\rladl\\AppData\\Local\\Temp\\ipykernel_18448\\1017872211.py:37: DeprecationWarning: find_element_by_xpath is deprecated. Please use find_element(by=By.XPATH, value=xpath) instead\n",
      "  another_reviews = driver.find_element_by_xpath(\"//a[@data-page='\" + str(button_num) + \"']\")\n",
      "C:\\Users\\rladl\\AppData\\Local\\Temp\\ipykernel_18448\\1017872211.py:55: FutureWarning: The frame.append method is deprecated and will be removed from pandas in a future version. Use pandas.concat instead.\n",
      "  df = df.append(series, ignore_index=True)\n",
      "C:\\Users\\rladl\\AppData\\Local\\Temp\\ipykernel_18448\\1017872211.py:55: FutureWarning: The frame.append method is deprecated and will be removed from pandas in a future version. Use pandas.concat instead.\n",
      "  df = df.append(series, ignore_index=True)\n",
      "C:\\Users\\rladl\\AppData\\Local\\Temp\\ipykernel_18448\\1017872211.py:55: FutureWarning: The frame.append method is deprecated and will be removed from pandas in a future version. Use pandas.concat instead.\n",
      "  df = df.append(series, ignore_index=True)\n",
      "C:\\Users\\rladl\\AppData\\Local\\Temp\\ipykernel_18448\\1017872211.py:55: FutureWarning: The frame.append method is deprecated and will be removed from pandas in a future version. Use pandas.concat instead.\n",
      "  df = df.append(series, ignore_index=True)\n",
      "C:\\Users\\rladl\\AppData\\Local\\Temp\\ipykernel_18448\\1017872211.py:55: FutureWarning: The frame.append method is deprecated and will be removed from pandas in a future version. Use pandas.concat instead.\n",
      "  df = df.append(series, ignore_index=True)\n",
      "C:\\Users\\rladl\\AppData\\Local\\Temp\\ipykernel_18448\\1017872211.py:37: DeprecationWarning: find_element_by_xpath is deprecated. Please use find_element(by=By.XPATH, value=xpath) instead\n",
      "  another_reviews = driver.find_element_by_xpath(\"//a[@data-page='\" + str(button_num) + \"']\")\n",
      "C:\\Users\\rladl\\AppData\\Local\\Temp\\ipykernel_18448\\1017872211.py:55: FutureWarning: The frame.append method is deprecated and will be removed from pandas in a future version. Use pandas.concat instead.\n",
      "  df = df.append(series, ignore_index=True)\n",
      "C:\\Users\\rladl\\AppData\\Local\\Temp\\ipykernel_18448\\1017872211.py:55: FutureWarning: The frame.append method is deprecated and will be removed from pandas in a future version. Use pandas.concat instead.\n",
      "  df = df.append(series, ignore_index=True)\n",
      "C:\\Users\\rladl\\AppData\\Local\\Temp\\ipykernel_18448\\1017872211.py:55: FutureWarning: The frame.append method is deprecated and will be removed from pandas in a future version. Use pandas.concat instead.\n",
      "  df = df.append(series, ignore_index=True)\n",
      "C:\\Users\\rladl\\AppData\\Local\\Temp\\ipykernel_18448\\1017872211.py:55: FutureWarning: The frame.append method is deprecated and will be removed from pandas in a future version. Use pandas.concat instead.\n",
      "  df = df.append(series, ignore_index=True)\n",
      "C:\\Users\\rladl\\AppData\\Local\\Temp\\ipykernel_18448\\1017872211.py:55: FutureWarning: The frame.append method is deprecated and will be removed from pandas in a future version. Use pandas.concat instead.\n",
      "  df = df.append(series, ignore_index=True)\n",
      "C:\\Users\\rladl\\AppData\\Local\\Temp\\ipykernel_18448\\1017872211.py:30: FutureWarning: The frame.append method is deprecated and will be removed from pandas in a future version. Use pandas.concat instead.\n",
      "  df = df.append(series, ignore_index=True)\n",
      "C:\\Users\\rladl\\AppData\\Local\\Temp\\ipykernel_18448\\1017872211.py:30: FutureWarning: The frame.append method is deprecated and will be removed from pandas in a future version. Use pandas.concat instead.\n",
      "  df = df.append(series, ignore_index=True)\n",
      "C:\\Users\\rladl\\AppData\\Local\\Temp\\ipykernel_18448\\1017872211.py:30: FutureWarning: The frame.append method is deprecated and will be removed from pandas in a future version. Use pandas.concat instead.\n",
      "  df = df.append(series, ignore_index=True)\n",
      "C:\\Users\\rladl\\AppData\\Local\\Temp\\ipykernel_18448\\1017872211.py:30: FutureWarning: The frame.append method is deprecated and will be removed from pandas in a future version. Use pandas.concat instead.\n",
      "  df = df.append(series, ignore_index=True)\n",
      "C:\\Users\\rladl\\AppData\\Local\\Temp\\ipykernel_18448\\1017872211.py:30: FutureWarning: The frame.append method is deprecated and will be removed from pandas in a future version. Use pandas.concat instead.\n",
      "  df = df.append(series, ignore_index=True)\n",
      "C:\\Users\\rladl\\AppData\\Local\\Temp\\ipykernel_18448\\1017872211.py:37: DeprecationWarning: find_element_by_xpath is deprecated. Please use find_element(by=By.XPATH, value=xpath) instead\n",
      "  another_reviews = driver.find_element_by_xpath(\"//a[@data-page='\" + str(button_num) + \"']\")\n",
      "C:\\Users\\rladl\\AppData\\Local\\Temp\\ipykernel_18448\\1017872211.py:55: FutureWarning: The frame.append method is deprecated and will be removed from pandas in a future version. Use pandas.concat instead.\n",
      "  df = df.append(series, ignore_index=True)\n",
      "C:\\Users\\rladl\\AppData\\Local\\Temp\\ipykernel_18448\\1017872211.py:55: FutureWarning: The frame.append method is deprecated and will be removed from pandas in a future version. Use pandas.concat instead.\n",
      "  df = df.append(series, ignore_index=True)\n",
      "C:\\Users\\rladl\\AppData\\Local\\Temp\\ipykernel_18448\\1017872211.py:55: FutureWarning: The frame.append method is deprecated and will be removed from pandas in a future version. Use pandas.concat instead.\n",
      "  df = df.append(series, ignore_index=True)\n",
      "C:\\Users\\rladl\\AppData\\Local\\Temp\\ipykernel_18448\\1017872211.py:55: FutureWarning: The frame.append method is deprecated and will be removed from pandas in a future version. Use pandas.concat instead.\n",
      "  df = df.append(series, ignore_index=True)\n",
      "C:\\Users\\rladl\\AppData\\Local\\Temp\\ipykernel_18448\\1017872211.py:55: FutureWarning: The frame.append method is deprecated and will be removed from pandas in a future version. Use pandas.concat instead.\n",
      "  df = df.append(series, ignore_index=True)\n",
      "C:\\Users\\rladl\\AppData\\Local\\Temp\\ipykernel_18448\\1017872211.py:37: DeprecationWarning: find_element_by_xpath is deprecated. Please use find_element(by=By.XPATH, value=xpath) instead\n",
      "  another_reviews = driver.find_element_by_xpath(\"//a[@data-page='\" + str(button_num) + \"']\")\n",
      "C:\\Users\\rladl\\AppData\\Local\\Temp\\ipykernel_18448\\1017872211.py:55: FutureWarning: The frame.append method is deprecated and will be removed from pandas in a future version. Use pandas.concat instead.\n",
      "  df = df.append(series, ignore_index=True)\n",
      "C:\\Users\\rladl\\AppData\\Local\\Temp\\ipykernel_18448\\1017872211.py:55: FutureWarning: The frame.append method is deprecated and will be removed from pandas in a future version. Use pandas.concat instead.\n",
      "  df = df.append(series, ignore_index=True)\n",
      "C:\\Users\\rladl\\AppData\\Local\\Temp\\ipykernel_18448\\1017872211.py:55: FutureWarning: The frame.append method is deprecated and will be removed from pandas in a future version. Use pandas.concat instead.\n",
      "  df = df.append(series, ignore_index=True)\n",
      "C:\\Users\\rladl\\AppData\\Local\\Temp\\ipykernel_18448\\1017872211.py:55: FutureWarning: The frame.append method is deprecated and will be removed from pandas in a future version. Use pandas.concat instead.\n",
      "  df = df.append(series, ignore_index=True)\n",
      "C:\\Users\\rladl\\AppData\\Local\\Temp\\ipykernel_18448\\1017872211.py:55: FutureWarning: The frame.append method is deprecated and will be removed from pandas in a future version. Use pandas.concat instead.\n",
      "  df = df.append(series, ignore_index=True)\n",
      "C:\\Users\\rladl\\AppData\\Local\\Temp\\ipykernel_18448\\1017872211.py:37: DeprecationWarning: find_element_by_xpath is deprecated. Please use find_element(by=By.XPATH, value=xpath) instead\n",
      "  another_reviews = driver.find_element_by_xpath(\"//a[@data-page='\" + str(button_num) + \"']\")\n"
     ]
    },
    {
     "name": "stderr",
     "output_type": "stream",
     "text": [
      "C:\\Users\\rladl\\AppData\\Local\\Temp\\ipykernel_18448\\1017872211.py:55: FutureWarning: The frame.append method is deprecated and will be removed from pandas in a future version. Use pandas.concat instead.\n",
      "  df = df.append(series, ignore_index=True)\n",
      "C:\\Users\\rladl\\AppData\\Local\\Temp\\ipykernel_18448\\1017872211.py:55: FutureWarning: The frame.append method is deprecated and will be removed from pandas in a future version. Use pandas.concat instead.\n",
      "  df = df.append(series, ignore_index=True)\n",
      "C:\\Users\\rladl\\AppData\\Local\\Temp\\ipykernel_18448\\1017872211.py:55: FutureWarning: The frame.append method is deprecated and will be removed from pandas in a future version. Use pandas.concat instead.\n",
      "  df = df.append(series, ignore_index=True)\n",
      "C:\\Users\\rladl\\AppData\\Local\\Temp\\ipykernel_18448\\1017872211.py:55: FutureWarning: The frame.append method is deprecated and will be removed from pandas in a future version. Use pandas.concat instead.\n",
      "  df = df.append(series, ignore_index=True)\n",
      "C:\\Users\\rladl\\AppData\\Local\\Temp\\ipykernel_18448\\1017872211.py:55: FutureWarning: The frame.append method is deprecated and will be removed from pandas in a future version. Use pandas.concat instead.\n",
      "  df = df.append(series, ignore_index=True)\n",
      "C:\\Users\\rladl\\AppData\\Local\\Temp\\ipykernel_18448\\1017872211.py:37: DeprecationWarning: find_element_by_xpath is deprecated. Please use find_element(by=By.XPATH, value=xpath) instead\n",
      "  another_reviews = driver.find_element_by_xpath(\"//a[@data-page='\" + str(button_num) + \"']\")\n",
      "C:\\Users\\rladl\\AppData\\Local\\Temp\\ipykernel_18448\\1017872211.py:55: FutureWarning: The frame.append method is deprecated and will be removed from pandas in a future version. Use pandas.concat instead.\n",
      "  df = df.append(series, ignore_index=True)\n",
      "C:\\Users\\rladl\\AppData\\Local\\Temp\\ipykernel_18448\\1017872211.py:55: FutureWarning: The frame.append method is deprecated and will be removed from pandas in a future version. Use pandas.concat instead.\n",
      "  df = df.append(series, ignore_index=True)\n",
      "C:\\Users\\rladl\\AppData\\Local\\Temp\\ipykernel_18448\\1017872211.py:55: FutureWarning: The frame.append method is deprecated and will be removed from pandas in a future version. Use pandas.concat instead.\n",
      "  df = df.append(series, ignore_index=True)\n",
      "C:\\Users\\rladl\\AppData\\Local\\Temp\\ipykernel_18448\\1017872211.py:55: FutureWarning: The frame.append method is deprecated and will be removed from pandas in a future version. Use pandas.concat instead.\n",
      "  df = df.append(series, ignore_index=True)\n",
      "C:\\Users\\rladl\\AppData\\Local\\Temp\\ipykernel_18448\\1017872211.py:55: FutureWarning: The frame.append method is deprecated and will be removed from pandas in a future version. Use pandas.concat instead.\n",
      "  df = df.append(series, ignore_index=True)\n",
      "C:\\Users\\rladl\\AppData\\Local\\Temp\\ipykernel_18448\\1017872211.py:30: FutureWarning: The frame.append method is deprecated and will be removed from pandas in a future version. Use pandas.concat instead.\n",
      "  df = df.append(series, ignore_index=True)\n",
      "C:\\Users\\rladl\\AppData\\Local\\Temp\\ipykernel_18448\\1017872211.py:30: FutureWarning: The frame.append method is deprecated and will be removed from pandas in a future version. Use pandas.concat instead.\n",
      "  df = df.append(series, ignore_index=True)\n",
      "C:\\Users\\rladl\\AppData\\Local\\Temp\\ipykernel_18448\\1017872211.py:30: FutureWarning: The frame.append method is deprecated and will be removed from pandas in a future version. Use pandas.concat instead.\n",
      "  df = df.append(series, ignore_index=True)\n",
      "C:\\Users\\rladl\\AppData\\Local\\Temp\\ipykernel_18448\\1017872211.py:30: FutureWarning: The frame.append method is deprecated and will be removed from pandas in a future version. Use pandas.concat instead.\n",
      "  df = df.append(series, ignore_index=True)\n",
      "C:\\Users\\rladl\\AppData\\Local\\Temp\\ipykernel_18448\\1017872211.py:30: FutureWarning: The frame.append method is deprecated and will be removed from pandas in a future version. Use pandas.concat instead.\n",
      "  df = df.append(series, ignore_index=True)\n",
      "C:\\Users\\rladl\\AppData\\Local\\Temp\\ipykernel_18448\\1017872211.py:37: DeprecationWarning: find_element_by_xpath is deprecated. Please use find_element(by=By.XPATH, value=xpath) instead\n",
      "  another_reviews = driver.find_element_by_xpath(\"//a[@data-page='\" + str(button_num) + \"']\")\n",
      "C:\\Users\\rladl\\AppData\\Local\\Temp\\ipykernel_18448\\1017872211.py:55: FutureWarning: The frame.append method is deprecated and will be removed from pandas in a future version. Use pandas.concat instead.\n",
      "  df = df.append(series, ignore_index=True)\n",
      "C:\\Users\\rladl\\AppData\\Local\\Temp\\ipykernel_18448\\1017872211.py:55: FutureWarning: The frame.append method is deprecated and will be removed from pandas in a future version. Use pandas.concat instead.\n",
      "  df = df.append(series, ignore_index=True)\n",
      "C:\\Users\\rladl\\AppData\\Local\\Temp\\ipykernel_18448\\1017872211.py:55: FutureWarning: The frame.append method is deprecated and will be removed from pandas in a future version. Use pandas.concat instead.\n",
      "  df = df.append(series, ignore_index=True)\n",
      "C:\\Users\\rladl\\AppData\\Local\\Temp\\ipykernel_18448\\1017872211.py:55: FutureWarning: The frame.append method is deprecated and will be removed from pandas in a future version. Use pandas.concat instead.\n",
      "  df = df.append(series, ignore_index=True)\n",
      "C:\\Users\\rladl\\AppData\\Local\\Temp\\ipykernel_18448\\1017872211.py:55: FutureWarning: The frame.append method is deprecated and will be removed from pandas in a future version. Use pandas.concat instead.\n",
      "  df = df.append(series, ignore_index=True)\n",
      "C:\\Users\\rladl\\AppData\\Local\\Temp\\ipykernel_18448\\1017872211.py:37: DeprecationWarning: find_element_by_xpath is deprecated. Please use find_element(by=By.XPATH, value=xpath) instead\n",
      "  another_reviews = driver.find_element_by_xpath(\"//a[@data-page='\" + str(button_num) + \"']\")\n",
      "C:\\Users\\rladl\\AppData\\Local\\Temp\\ipykernel_18448\\1017872211.py:55: FutureWarning: The frame.append method is deprecated and will be removed from pandas in a future version. Use pandas.concat instead.\n",
      "  df = df.append(series, ignore_index=True)\n",
      "C:\\Users\\rladl\\AppData\\Local\\Temp\\ipykernel_18448\\1017872211.py:55: FutureWarning: The frame.append method is deprecated and will be removed from pandas in a future version. Use pandas.concat instead.\n",
      "  df = df.append(series, ignore_index=True)\n",
      "C:\\Users\\rladl\\AppData\\Local\\Temp\\ipykernel_18448\\1017872211.py:55: FutureWarning: The frame.append method is deprecated and will be removed from pandas in a future version. Use pandas.concat instead.\n",
      "  df = df.append(series, ignore_index=True)\n",
      "C:\\Users\\rladl\\AppData\\Local\\Temp\\ipykernel_18448\\1017872211.py:55: FutureWarning: The frame.append method is deprecated and will be removed from pandas in a future version. Use pandas.concat instead.\n",
      "  df = df.append(series, ignore_index=True)\n",
      "C:\\Users\\rladl\\AppData\\Local\\Temp\\ipykernel_18448\\1017872211.py:55: FutureWarning: The frame.append method is deprecated and will be removed from pandas in a future version. Use pandas.concat instead.\n",
      "  df = df.append(series, ignore_index=True)\n",
      "C:\\Users\\rladl\\AppData\\Local\\Temp\\ipykernel_18448\\1017872211.py:37: DeprecationWarning: find_element_by_xpath is deprecated. Please use find_element(by=By.XPATH, value=xpath) instead\n",
      "  another_reviews = driver.find_element_by_xpath(\"//a[@data-page='\" + str(button_num) + \"']\")\n",
      "C:\\Users\\rladl\\AppData\\Local\\Temp\\ipykernel_18448\\1017872211.py:55: FutureWarning: The frame.append method is deprecated and will be removed from pandas in a future version. Use pandas.concat instead.\n",
      "  df = df.append(series, ignore_index=True)\n",
      "C:\\Users\\rladl\\AppData\\Local\\Temp\\ipykernel_18448\\1017872211.py:55: FutureWarning: The frame.append method is deprecated and will be removed from pandas in a future version. Use pandas.concat instead.\n",
      "  df = df.append(series, ignore_index=True)\n",
      "C:\\Users\\rladl\\AppData\\Local\\Temp\\ipykernel_18448\\1017872211.py:55: FutureWarning: The frame.append method is deprecated and will be removed from pandas in a future version. Use pandas.concat instead.\n",
      "  df = df.append(series, ignore_index=True)\n",
      "C:\\Users\\rladl\\AppData\\Local\\Temp\\ipykernel_18448\\1017872211.py:55: FutureWarning: The frame.append method is deprecated and will be removed from pandas in a future version. Use pandas.concat instead.\n",
      "  df = df.append(series, ignore_index=True)\n",
      "C:\\Users\\rladl\\AppData\\Local\\Temp\\ipykernel_18448\\1017872211.py:55: FutureWarning: The frame.append method is deprecated and will be removed from pandas in a future version. Use pandas.concat instead.\n",
      "  df = df.append(series, ignore_index=True)\n",
      "C:\\Users\\rladl\\AppData\\Local\\Temp\\ipykernel_18448\\1017872211.py:37: DeprecationWarning: find_element_by_xpath is deprecated. Please use find_element(by=By.XPATH, value=xpath) instead\n",
      "  another_reviews = driver.find_element_by_xpath(\"//a[@data-page='\" + str(button_num) + \"']\")\n"
     ]
    },
    {
     "name": "stderr",
     "output_type": "stream",
     "text": [
      "C:\\Users\\rladl\\AppData\\Local\\Temp\\ipykernel_18448\\1017872211.py:55: FutureWarning: The frame.append method is deprecated and will be removed from pandas in a future version. Use pandas.concat instead.\n",
      "  df = df.append(series, ignore_index=True)\n",
      "C:\\Users\\rladl\\AppData\\Local\\Temp\\ipykernel_18448\\1017872211.py:55: FutureWarning: The frame.append method is deprecated and will be removed from pandas in a future version. Use pandas.concat instead.\n",
      "  df = df.append(series, ignore_index=True)\n",
      "C:\\Users\\rladl\\AppData\\Local\\Temp\\ipykernel_18448\\1017872211.py:55: FutureWarning: The frame.append method is deprecated and will be removed from pandas in a future version. Use pandas.concat instead.\n",
      "  df = df.append(series, ignore_index=True)\n",
      "C:\\Users\\rladl\\AppData\\Local\\Temp\\ipykernel_18448\\1017872211.py:55: FutureWarning: The frame.append method is deprecated and will be removed from pandas in a future version. Use pandas.concat instead.\n",
      "  df = df.append(series, ignore_index=True)\n",
      "C:\\Users\\rladl\\AppData\\Local\\Temp\\ipykernel_18448\\1017872211.py:55: FutureWarning: The frame.append method is deprecated and will be removed from pandas in a future version. Use pandas.concat instead.\n",
      "  df = df.append(series, ignore_index=True)\n",
      "C:\\Users\\rladl\\AppData\\Local\\Temp\\ipykernel_18448\\1017872211.py:30: FutureWarning: The frame.append method is deprecated and will be removed from pandas in a future version. Use pandas.concat instead.\n",
      "  df = df.append(series, ignore_index=True)\n",
      "C:\\Users\\rladl\\AppData\\Local\\Temp\\ipykernel_18448\\1017872211.py:30: FutureWarning: The frame.append method is deprecated and will be removed from pandas in a future version. Use pandas.concat instead.\n",
      "  df = df.append(series, ignore_index=True)\n",
      "C:\\Users\\rladl\\AppData\\Local\\Temp\\ipykernel_18448\\1017872211.py:30: FutureWarning: The frame.append method is deprecated and will be removed from pandas in a future version. Use pandas.concat instead.\n",
      "  df = df.append(series, ignore_index=True)\n",
      "C:\\Users\\rladl\\AppData\\Local\\Temp\\ipykernel_18448\\1017872211.py:30: FutureWarning: The frame.append method is deprecated and will be removed from pandas in a future version. Use pandas.concat instead.\n",
      "  df = df.append(series, ignore_index=True)\n",
      "C:\\Users\\rladl\\AppData\\Local\\Temp\\ipykernel_18448\\1017872211.py:30: FutureWarning: The frame.append method is deprecated and will be removed from pandas in a future version. Use pandas.concat instead.\n",
      "  df = df.append(series, ignore_index=True)\n",
      "C:\\Users\\rladl\\AppData\\Local\\Temp\\ipykernel_18448\\1017872211.py:37: DeprecationWarning: find_element_by_xpath is deprecated. Please use find_element(by=By.XPATH, value=xpath) instead\n",
      "  another_reviews = driver.find_element_by_xpath(\"//a[@data-page='\" + str(button_num) + \"']\")\n",
      "C:\\Users\\rladl\\AppData\\Local\\Temp\\ipykernel_18448\\1017872211.py:55: FutureWarning: The frame.append method is deprecated and will be removed from pandas in a future version. Use pandas.concat instead.\n",
      "  df = df.append(series, ignore_index=True)\n",
      "C:\\Users\\rladl\\AppData\\Local\\Temp\\ipykernel_18448\\1017872211.py:55: FutureWarning: The frame.append method is deprecated and will be removed from pandas in a future version. Use pandas.concat instead.\n",
      "  df = df.append(series, ignore_index=True)\n",
      "C:\\Users\\rladl\\AppData\\Local\\Temp\\ipykernel_18448\\1017872211.py:55: FutureWarning: The frame.append method is deprecated and will be removed from pandas in a future version. Use pandas.concat instead.\n",
      "  df = df.append(series, ignore_index=True)\n",
      "C:\\Users\\rladl\\AppData\\Local\\Temp\\ipykernel_18448\\1017872211.py:55: FutureWarning: The frame.append method is deprecated and will be removed from pandas in a future version. Use pandas.concat instead.\n",
      "  df = df.append(series, ignore_index=True)\n",
      "C:\\Users\\rladl\\AppData\\Local\\Temp\\ipykernel_18448\\1017872211.py:55: FutureWarning: The frame.append method is deprecated and will be removed from pandas in a future version. Use pandas.concat instead.\n",
      "  df = df.append(series, ignore_index=True)\n",
      "C:\\Users\\rladl\\AppData\\Local\\Temp\\ipykernel_18448\\1017872211.py:37: DeprecationWarning: find_element_by_xpath is deprecated. Please use find_element(by=By.XPATH, value=xpath) instead\n",
      "  another_reviews = driver.find_element_by_xpath(\"//a[@data-page='\" + str(button_num) + \"']\")\n",
      "C:\\Users\\rladl\\AppData\\Local\\Temp\\ipykernel_18448\\1017872211.py:55: FutureWarning: The frame.append method is deprecated and will be removed from pandas in a future version. Use pandas.concat instead.\n",
      "  df = df.append(series, ignore_index=True)\n",
      "C:\\Users\\rladl\\AppData\\Local\\Temp\\ipykernel_18448\\1017872211.py:55: FutureWarning: The frame.append method is deprecated and will be removed from pandas in a future version. Use pandas.concat instead.\n",
      "  df = df.append(series, ignore_index=True)\n",
      "C:\\Users\\rladl\\AppData\\Local\\Temp\\ipykernel_18448\\1017872211.py:55: FutureWarning: The frame.append method is deprecated and will be removed from pandas in a future version. Use pandas.concat instead.\n",
      "  df = df.append(series, ignore_index=True)\n",
      "C:\\Users\\rladl\\AppData\\Local\\Temp\\ipykernel_18448\\1017872211.py:55: FutureWarning: The frame.append method is deprecated and will be removed from pandas in a future version. Use pandas.concat instead.\n",
      "  df = df.append(series, ignore_index=True)\n",
      "C:\\Users\\rladl\\AppData\\Local\\Temp\\ipykernel_18448\\1017872211.py:55: FutureWarning: The frame.append method is deprecated and will be removed from pandas in a future version. Use pandas.concat instead.\n",
      "  df = df.append(series, ignore_index=True)\n",
      "C:\\Users\\rladl\\AppData\\Local\\Temp\\ipykernel_18448\\1017872211.py:37: DeprecationWarning: find_element_by_xpath is deprecated. Please use find_element(by=By.XPATH, value=xpath) instead\n",
      "  another_reviews = driver.find_element_by_xpath(\"//a[@data-page='\" + str(button_num) + \"']\")\n",
      "C:\\Users\\rladl\\AppData\\Local\\Temp\\ipykernel_18448\\1017872211.py:55: FutureWarning: The frame.append method is deprecated and will be removed from pandas in a future version. Use pandas.concat instead.\n",
      "  df = df.append(series, ignore_index=True)\n",
      "C:\\Users\\rladl\\AppData\\Local\\Temp\\ipykernel_18448\\1017872211.py:55: FutureWarning: The frame.append method is deprecated and will be removed from pandas in a future version. Use pandas.concat instead.\n",
      "  df = df.append(series, ignore_index=True)\n",
      "C:\\Users\\rladl\\AppData\\Local\\Temp\\ipykernel_18448\\1017872211.py:55: FutureWarning: The frame.append method is deprecated and will be removed from pandas in a future version. Use pandas.concat instead.\n",
      "  df = df.append(series, ignore_index=True)\n",
      "C:\\Users\\rladl\\AppData\\Local\\Temp\\ipykernel_18448\\1017872211.py:55: FutureWarning: The frame.append method is deprecated and will be removed from pandas in a future version. Use pandas.concat instead.\n",
      "  df = df.append(series, ignore_index=True)\n",
      "C:\\Users\\rladl\\AppData\\Local\\Temp\\ipykernel_18448\\1017872211.py:55: FutureWarning: The frame.append method is deprecated and will be removed from pandas in a future version. Use pandas.concat instead.\n",
      "  df = df.append(series, ignore_index=True)\n",
      "C:\\Users\\rladl\\AppData\\Local\\Temp\\ipykernel_18448\\1017872211.py:37: DeprecationWarning: find_element_by_xpath is deprecated. Please use find_element(by=By.XPATH, value=xpath) instead\n",
      "  another_reviews = driver.find_element_by_xpath(\"//a[@data-page='\" + str(button_num) + \"']\")\n",
      "C:\\Users\\rladl\\AppData\\Local\\Temp\\ipykernel_18448\\1017872211.py:55: FutureWarning: The frame.append method is deprecated and will be removed from pandas in a future version. Use pandas.concat instead.\n",
      "  df = df.append(series, ignore_index=True)\n",
      "C:\\Users\\rladl\\AppData\\Local\\Temp\\ipykernel_18448\\1017872211.py:55: FutureWarning: The frame.append method is deprecated and will be removed from pandas in a future version. Use pandas.concat instead.\n",
      "  df = df.append(series, ignore_index=True)\n",
      "C:\\Users\\rladl\\AppData\\Local\\Temp\\ipykernel_18448\\1017872211.py:55: FutureWarning: The frame.append method is deprecated and will be removed from pandas in a future version. Use pandas.concat instead.\n",
      "  df = df.append(series, ignore_index=True)\n",
      "C:\\Users\\rladl\\AppData\\Local\\Temp\\ipykernel_18448\\1017872211.py:55: FutureWarning: The frame.append method is deprecated and will be removed from pandas in a future version. Use pandas.concat instead.\n",
      "  df = df.append(series, ignore_index=True)\n"
     ]
    },
    {
     "name": "stderr",
     "output_type": "stream",
     "text": [
      "C:\\Users\\rladl\\AppData\\Local\\Temp\\ipykernel_18448\\1017872211.py:30: FutureWarning: The frame.append method is deprecated and will be removed from pandas in a future version. Use pandas.concat instead.\n",
      "  df = df.append(series, ignore_index=True)\n",
      "C:\\Users\\rladl\\AppData\\Local\\Temp\\ipykernel_18448\\1017872211.py:30: FutureWarning: The frame.append method is deprecated and will be removed from pandas in a future version. Use pandas.concat instead.\n",
      "  df = df.append(series, ignore_index=True)\n",
      "C:\\Users\\rladl\\AppData\\Local\\Temp\\ipykernel_18448\\1017872211.py:30: FutureWarning: The frame.append method is deprecated and will be removed from pandas in a future version. Use pandas.concat instead.\n",
      "  df = df.append(series, ignore_index=True)\n",
      "C:\\Users\\rladl\\AppData\\Local\\Temp\\ipykernel_18448\\1017872211.py:30: FutureWarning: The frame.append method is deprecated and will be removed from pandas in a future version. Use pandas.concat instead.\n",
      "  df = df.append(series, ignore_index=True)\n",
      "C:\\Users\\rladl\\AppData\\Local\\Temp\\ipykernel_18448\\1017872211.py:30: FutureWarning: The frame.append method is deprecated and will be removed from pandas in a future version. Use pandas.concat instead.\n",
      "  df = df.append(series, ignore_index=True)\n",
      "C:\\Users\\rladl\\AppData\\Local\\Temp\\ipykernel_18448\\1017872211.py:37: DeprecationWarning: find_element_by_xpath is deprecated. Please use find_element(by=By.XPATH, value=xpath) instead\n",
      "  another_reviews = driver.find_element_by_xpath(\"//a[@data-page='\" + str(button_num) + \"']\")\n",
      "C:\\Users\\rladl\\AppData\\Local\\Temp\\ipykernel_18448\\1017872211.py:55: FutureWarning: The frame.append method is deprecated and will be removed from pandas in a future version. Use pandas.concat instead.\n",
      "  df = df.append(series, ignore_index=True)\n",
      "C:\\Users\\rladl\\AppData\\Local\\Temp\\ipykernel_18448\\1017872211.py:55: FutureWarning: The frame.append method is deprecated and will be removed from pandas in a future version. Use pandas.concat instead.\n",
      "  df = df.append(series, ignore_index=True)\n",
      "C:\\Users\\rladl\\AppData\\Local\\Temp\\ipykernel_18448\\1017872211.py:55: FutureWarning: The frame.append method is deprecated and will be removed from pandas in a future version. Use pandas.concat instead.\n",
      "  df = df.append(series, ignore_index=True)\n",
      "C:\\Users\\rladl\\AppData\\Local\\Temp\\ipykernel_18448\\1017872211.py:55: FutureWarning: The frame.append method is deprecated and will be removed from pandas in a future version. Use pandas.concat instead.\n",
      "  df = df.append(series, ignore_index=True)\n",
      "C:\\Users\\rladl\\AppData\\Local\\Temp\\ipykernel_18448\\1017872211.py:55: FutureWarning: The frame.append method is deprecated and will be removed from pandas in a future version. Use pandas.concat instead.\n",
      "  df = df.append(series, ignore_index=True)\n",
      "C:\\Users\\rladl\\AppData\\Local\\Temp\\ipykernel_18448\\1017872211.py:37: DeprecationWarning: find_element_by_xpath is deprecated. Please use find_element(by=By.XPATH, value=xpath) instead\n",
      "  another_reviews = driver.find_element_by_xpath(\"//a[@data-page='\" + str(button_num) + \"']\")\n",
      "C:\\Users\\rladl\\AppData\\Local\\Temp\\ipykernel_18448\\1017872211.py:55: FutureWarning: The frame.append method is deprecated and will be removed from pandas in a future version. Use pandas.concat instead.\n",
      "  df = df.append(series, ignore_index=True)\n",
      "C:\\Users\\rladl\\AppData\\Local\\Temp\\ipykernel_18448\\1017872211.py:55: FutureWarning: The frame.append method is deprecated and will be removed from pandas in a future version. Use pandas.concat instead.\n",
      "  df = df.append(series, ignore_index=True)\n",
      "C:\\Users\\rladl\\AppData\\Local\\Temp\\ipykernel_18448\\1017872211.py:55: FutureWarning: The frame.append method is deprecated and will be removed from pandas in a future version. Use pandas.concat instead.\n",
      "  df = df.append(series, ignore_index=True)\n",
      "C:\\Users\\rladl\\AppData\\Local\\Temp\\ipykernel_18448\\1017872211.py:55: FutureWarning: The frame.append method is deprecated and will be removed from pandas in a future version. Use pandas.concat instead.\n",
      "  df = df.append(series, ignore_index=True)\n",
      "C:\\Users\\rladl\\AppData\\Local\\Temp\\ipykernel_18448\\1017872211.py:55: FutureWarning: The frame.append method is deprecated and will be removed from pandas in a future version. Use pandas.concat instead.\n",
      "  df = df.append(series, ignore_index=True)\n",
      "C:\\Users\\rladl\\AppData\\Local\\Temp\\ipykernel_18448\\1017872211.py:37: DeprecationWarning: find_element_by_xpath is deprecated. Please use find_element(by=By.XPATH, value=xpath) instead\n",
      "  another_reviews = driver.find_element_by_xpath(\"//a[@data-page='\" + str(button_num) + \"']\")\n",
      "C:\\Users\\rladl\\AppData\\Local\\Temp\\ipykernel_18448\\1017872211.py:55: FutureWarning: The frame.append method is deprecated and will be removed from pandas in a future version. Use pandas.concat instead.\n",
      "  df = df.append(series, ignore_index=True)\n",
      "C:\\Users\\rladl\\AppData\\Local\\Temp\\ipykernel_18448\\1017872211.py:55: FutureWarning: The frame.append method is deprecated and will be removed from pandas in a future version. Use pandas.concat instead.\n",
      "  df = df.append(series, ignore_index=True)\n",
      "C:\\Users\\rladl\\AppData\\Local\\Temp\\ipykernel_18448\\1017872211.py:55: FutureWarning: The frame.append method is deprecated and will be removed from pandas in a future version. Use pandas.concat instead.\n",
      "  df = df.append(series, ignore_index=True)\n",
      "C:\\Users\\rladl\\AppData\\Local\\Temp\\ipykernel_18448\\1017872211.py:55: FutureWarning: The frame.append method is deprecated and will be removed from pandas in a future version. Use pandas.concat instead.\n",
      "  df = df.append(series, ignore_index=True)\n",
      "C:\\Users\\rladl\\AppData\\Local\\Temp\\ipykernel_18448\\1017872211.py:55: FutureWarning: The frame.append method is deprecated and will be removed from pandas in a future version. Use pandas.concat instead.\n",
      "  df = df.append(series, ignore_index=True)\n",
      "C:\\Users\\rladl\\AppData\\Local\\Temp\\ipykernel_18448\\1017872211.py:37: DeprecationWarning: find_element_by_xpath is deprecated. Please use find_element(by=By.XPATH, value=xpath) instead\n",
      "  another_reviews = driver.find_element_by_xpath(\"//a[@data-page='\" + str(button_num) + \"']\")\n",
      "C:\\Users\\rladl\\AppData\\Local\\Temp\\ipykernel_18448\\1017872211.py:55: FutureWarning: The frame.append method is deprecated and will be removed from pandas in a future version. Use pandas.concat instead.\n",
      "  df = df.append(series, ignore_index=True)\n",
      "C:\\Users\\rladl\\AppData\\Local\\Temp\\ipykernel_18448\\1017872211.py:55: FutureWarning: The frame.append method is deprecated and will be removed from pandas in a future version. Use pandas.concat instead.\n",
      "  df = df.append(series, ignore_index=True)\n",
      "C:\\Users\\rladl\\AppData\\Local\\Temp\\ipykernel_18448\\1017872211.py:55: FutureWarning: The frame.append method is deprecated and will be removed from pandas in a future version. Use pandas.concat instead.\n",
      "  df = df.append(series, ignore_index=True)\n",
      "C:\\Users\\rladl\\AppData\\Local\\Temp\\ipykernel_18448\\1017872211.py:55: FutureWarning: The frame.append method is deprecated and will be removed from pandas in a future version. Use pandas.concat instead.\n",
      "  df = df.append(series, ignore_index=True)\n",
      "C:\\Users\\rladl\\AppData\\Local\\Temp\\ipykernel_18448\\1017872211.py:55: FutureWarning: The frame.append method is deprecated and will be removed from pandas in a future version. Use pandas.concat instead.\n",
      "  df = df.append(series, ignore_index=True)\n",
      "C:\\Users\\rladl\\AppData\\Local\\Temp\\ipykernel_18448\\1017872211.py:30: FutureWarning: The frame.append method is deprecated and will be removed from pandas in a future version. Use pandas.concat instead.\n",
      "  df = df.append(series, ignore_index=True)\n",
      "C:\\Users\\rladl\\AppData\\Local\\Temp\\ipykernel_18448\\1017872211.py:30: FutureWarning: The frame.append method is deprecated and will be removed from pandas in a future version. Use pandas.concat instead.\n",
      "  df = df.append(series, ignore_index=True)\n",
      "C:\\Users\\rladl\\AppData\\Local\\Temp\\ipykernel_18448\\1017872211.py:30: FutureWarning: The frame.append method is deprecated and will be removed from pandas in a future version. Use pandas.concat instead.\n",
      "  df = df.append(series, ignore_index=True)\n",
      "C:\\Users\\rladl\\AppData\\Local\\Temp\\ipykernel_18448\\1017872211.py:30: FutureWarning: The frame.append method is deprecated and will be removed from pandas in a future version. Use pandas.concat instead.\n",
      "  df = df.append(series, ignore_index=True)\n",
      "C:\\Users\\rladl\\AppData\\Local\\Temp\\ipykernel_18448\\1017872211.py:30: FutureWarning: The frame.append method is deprecated and will be removed from pandas in a future version. Use pandas.concat instead.\n",
      "  df = df.append(series, ignore_index=True)\n",
      "C:\\Users\\rladl\\AppData\\Local\\Temp\\ipykernel_18448\\1017872211.py:37: DeprecationWarning: find_element_by_xpath is deprecated. Please use find_element(by=By.XPATH, value=xpath) instead\n",
      "  another_reviews = driver.find_element_by_xpath(\"//a[@data-page='\" + str(button_num) + \"']\")\n"
     ]
    },
    {
     "name": "stderr",
     "output_type": "stream",
     "text": [
      "C:\\Users\\rladl\\AppData\\Local\\Temp\\ipykernel_18448\\1017872211.py:55: FutureWarning: The frame.append method is deprecated and will be removed from pandas in a future version. Use pandas.concat instead.\n",
      "  df = df.append(series, ignore_index=True)\n",
      "C:\\Users\\rladl\\AppData\\Local\\Temp\\ipykernel_18448\\1017872211.py:55: FutureWarning: The frame.append method is deprecated and will be removed from pandas in a future version. Use pandas.concat instead.\n",
      "  df = df.append(series, ignore_index=True)\n",
      "C:\\Users\\rladl\\AppData\\Local\\Temp\\ipykernel_18448\\1017872211.py:55: FutureWarning: The frame.append method is deprecated and will be removed from pandas in a future version. Use pandas.concat instead.\n",
      "  df = df.append(series, ignore_index=True)\n",
      "C:\\Users\\rladl\\AppData\\Local\\Temp\\ipykernel_18448\\1017872211.py:55: FutureWarning: The frame.append method is deprecated and will be removed from pandas in a future version. Use pandas.concat instead.\n",
      "  df = df.append(series, ignore_index=True)\n",
      "C:\\Users\\rladl\\AppData\\Local\\Temp\\ipykernel_18448\\1017872211.py:55: FutureWarning: The frame.append method is deprecated and will be removed from pandas in a future version. Use pandas.concat instead.\n",
      "  df = df.append(series, ignore_index=True)\n",
      "C:\\Users\\rladl\\AppData\\Local\\Temp\\ipykernel_18448\\1017872211.py:37: DeprecationWarning: find_element_by_xpath is deprecated. Please use find_element(by=By.XPATH, value=xpath) instead\n",
      "  another_reviews = driver.find_element_by_xpath(\"//a[@data-page='\" + str(button_num) + \"']\")\n",
      "C:\\Users\\rladl\\AppData\\Local\\Temp\\ipykernel_18448\\1017872211.py:55: FutureWarning: The frame.append method is deprecated and will be removed from pandas in a future version. Use pandas.concat instead.\n",
      "  df = df.append(series, ignore_index=True)\n",
      "C:\\Users\\rladl\\AppData\\Local\\Temp\\ipykernel_18448\\1017872211.py:55: FutureWarning: The frame.append method is deprecated and will be removed from pandas in a future version. Use pandas.concat instead.\n",
      "  df = df.append(series, ignore_index=True)\n",
      "C:\\Users\\rladl\\AppData\\Local\\Temp\\ipykernel_18448\\1017872211.py:55: FutureWarning: The frame.append method is deprecated and will be removed from pandas in a future version. Use pandas.concat instead.\n",
      "  df = df.append(series, ignore_index=True)\n",
      "C:\\Users\\rladl\\AppData\\Local\\Temp\\ipykernel_18448\\1017872211.py:55: FutureWarning: The frame.append method is deprecated and will be removed from pandas in a future version. Use pandas.concat instead.\n",
      "  df = df.append(series, ignore_index=True)\n",
      "C:\\Users\\rladl\\AppData\\Local\\Temp\\ipykernel_18448\\1017872211.py:55: FutureWarning: The frame.append method is deprecated and will be removed from pandas in a future version. Use pandas.concat instead.\n",
      "  df = df.append(series, ignore_index=True)\n",
      "C:\\Users\\rladl\\AppData\\Local\\Temp\\ipykernel_18448\\1017872211.py:37: DeprecationWarning: find_element_by_xpath is deprecated. Please use find_element(by=By.XPATH, value=xpath) instead\n",
      "  another_reviews = driver.find_element_by_xpath(\"//a[@data-page='\" + str(button_num) + \"']\")\n",
      "C:\\Users\\rladl\\AppData\\Local\\Temp\\ipykernel_18448\\1017872211.py:55: FutureWarning: The frame.append method is deprecated and will be removed from pandas in a future version. Use pandas.concat instead.\n",
      "  df = df.append(series, ignore_index=True)\n",
      "C:\\Users\\rladl\\AppData\\Local\\Temp\\ipykernel_18448\\1017872211.py:55: FutureWarning: The frame.append method is deprecated and will be removed from pandas in a future version. Use pandas.concat instead.\n",
      "  df = df.append(series, ignore_index=True)\n",
      "C:\\Users\\rladl\\AppData\\Local\\Temp\\ipykernel_18448\\1017872211.py:55: FutureWarning: The frame.append method is deprecated and will be removed from pandas in a future version. Use pandas.concat instead.\n",
      "  df = df.append(series, ignore_index=True)\n",
      "C:\\Users\\rladl\\AppData\\Local\\Temp\\ipykernel_18448\\1017872211.py:55: FutureWarning: The frame.append method is deprecated and will be removed from pandas in a future version. Use pandas.concat instead.\n",
      "  df = df.append(series, ignore_index=True)\n",
      "C:\\Users\\rladl\\AppData\\Local\\Temp\\ipykernel_18448\\1017872211.py:55: FutureWarning: The frame.append method is deprecated and will be removed from pandas in a future version. Use pandas.concat instead.\n",
      "  df = df.append(series, ignore_index=True)\n",
      "C:\\Users\\rladl\\AppData\\Local\\Temp\\ipykernel_18448\\1017872211.py:37: DeprecationWarning: find_element_by_xpath is deprecated. Please use find_element(by=By.XPATH, value=xpath) instead\n",
      "  another_reviews = driver.find_element_by_xpath(\"//a[@data-page='\" + str(button_num) + \"']\")\n",
      "C:\\Users\\rladl\\AppData\\Local\\Temp\\ipykernel_18448\\1017872211.py:55: FutureWarning: The frame.append method is deprecated and will be removed from pandas in a future version. Use pandas.concat instead.\n",
      "  df = df.append(series, ignore_index=True)\n",
      "C:\\Users\\rladl\\AppData\\Local\\Temp\\ipykernel_18448\\1017872211.py:55: FutureWarning: The frame.append method is deprecated and will be removed from pandas in a future version. Use pandas.concat instead.\n",
      "  df = df.append(series, ignore_index=True)\n",
      "C:\\Users\\rladl\\AppData\\Local\\Temp\\ipykernel_18448\\1017872211.py:55: FutureWarning: The frame.append method is deprecated and will be removed from pandas in a future version. Use pandas.concat instead.\n",
      "  df = df.append(series, ignore_index=True)\n",
      "C:\\Users\\rladl\\AppData\\Local\\Temp\\ipykernel_18448\\1017872211.py:55: FutureWarning: The frame.append method is deprecated and will be removed from pandas in a future version. Use pandas.concat instead.\n",
      "  df = df.append(series, ignore_index=True)\n",
      "C:\\Users\\rladl\\AppData\\Local\\Temp\\ipykernel_18448\\1017872211.py:55: FutureWarning: The frame.append method is deprecated and will be removed from pandas in a future version. Use pandas.concat instead.\n",
      "  df = df.append(series, ignore_index=True)\n",
      "C:\\Users\\rladl\\AppData\\Local\\Temp\\ipykernel_18448\\1017872211.py:30: FutureWarning: The frame.append method is deprecated and will be removed from pandas in a future version. Use pandas.concat instead.\n",
      "  df = df.append(series, ignore_index=True)\n",
      "C:\\Users\\rladl\\AppData\\Local\\Temp\\ipykernel_18448\\1017872211.py:30: FutureWarning: The frame.append method is deprecated and will be removed from pandas in a future version. Use pandas.concat instead.\n",
      "  df = df.append(series, ignore_index=True)\n",
      "C:\\Users\\rladl\\AppData\\Local\\Temp\\ipykernel_18448\\1017872211.py:30: FutureWarning: The frame.append method is deprecated and will be removed from pandas in a future version. Use pandas.concat instead.\n",
      "  df = df.append(series, ignore_index=True)\n",
      "C:\\Users\\rladl\\AppData\\Local\\Temp\\ipykernel_18448\\1017872211.py:30: FutureWarning: The frame.append method is deprecated and will be removed from pandas in a future version. Use pandas.concat instead.\n",
      "  df = df.append(series, ignore_index=True)\n",
      "C:\\Users\\rladl\\AppData\\Local\\Temp\\ipykernel_18448\\1017872211.py:30: FutureWarning: The frame.append method is deprecated and will be removed from pandas in a future version. Use pandas.concat instead.\n",
      "  df = df.append(series, ignore_index=True)\n",
      "C:\\Users\\rladl\\AppData\\Local\\Temp\\ipykernel_18448\\1017872211.py:37: DeprecationWarning: find_element_by_xpath is deprecated. Please use find_element(by=By.XPATH, value=xpath) instead\n",
      "  another_reviews = driver.find_element_by_xpath(\"//a[@data-page='\" + str(button_num) + \"']\")\n",
      "C:\\Users\\rladl\\AppData\\Local\\Temp\\ipykernel_18448\\1017872211.py:55: FutureWarning: The frame.append method is deprecated and will be removed from pandas in a future version. Use pandas.concat instead.\n",
      "  df = df.append(series, ignore_index=True)\n",
      "C:\\Users\\rladl\\AppData\\Local\\Temp\\ipykernel_18448\\1017872211.py:55: FutureWarning: The frame.append method is deprecated and will be removed from pandas in a future version. Use pandas.concat instead.\n",
      "  df = df.append(series, ignore_index=True)\n",
      "C:\\Users\\rladl\\AppData\\Local\\Temp\\ipykernel_18448\\1017872211.py:55: FutureWarning: The frame.append method is deprecated and will be removed from pandas in a future version. Use pandas.concat instead.\n",
      "  df = df.append(series, ignore_index=True)\n",
      "C:\\Users\\rladl\\AppData\\Local\\Temp\\ipykernel_18448\\1017872211.py:55: FutureWarning: The frame.append method is deprecated and will be removed from pandas in a future version. Use pandas.concat instead.\n",
      "  df = df.append(series, ignore_index=True)\n",
      "C:\\Users\\rladl\\AppData\\Local\\Temp\\ipykernel_18448\\1017872211.py:55: FutureWarning: The frame.append method is deprecated and will be removed from pandas in a future version. Use pandas.concat instead.\n",
      "  df = df.append(series, ignore_index=True)\n",
      "C:\\Users\\rladl\\AppData\\Local\\Temp\\ipykernel_18448\\1017872211.py:37: DeprecationWarning: find_element_by_xpath is deprecated. Please use find_element(by=By.XPATH, value=xpath) instead\n",
      "  another_reviews = driver.find_element_by_xpath(\"//a[@data-page='\" + str(button_num) + \"']\")\n"
     ]
    },
    {
     "name": "stderr",
     "output_type": "stream",
     "text": [
      "C:\\Users\\rladl\\AppData\\Local\\Temp\\ipykernel_18448\\1017872211.py:55: FutureWarning: The frame.append method is deprecated and will be removed from pandas in a future version. Use pandas.concat instead.\n",
      "  df = df.append(series, ignore_index=True)\n",
      "C:\\Users\\rladl\\AppData\\Local\\Temp\\ipykernel_18448\\1017872211.py:55: FutureWarning: The frame.append method is deprecated and will be removed from pandas in a future version. Use pandas.concat instead.\n",
      "  df = df.append(series, ignore_index=True)\n",
      "C:\\Users\\rladl\\AppData\\Local\\Temp\\ipykernel_18448\\1017872211.py:55: FutureWarning: The frame.append method is deprecated and will be removed from pandas in a future version. Use pandas.concat instead.\n",
      "  df = df.append(series, ignore_index=True)\n",
      "C:\\Users\\rladl\\AppData\\Local\\Temp\\ipykernel_18448\\1017872211.py:37: DeprecationWarning: find_element_by_xpath is deprecated. Please use find_element(by=By.XPATH, value=xpath) instead\n",
      "  another_reviews = driver.find_element_by_xpath(\"//a[@data-page='\" + str(button_num) + \"']\")\n",
      "C:\\Users\\rladl\\AppData\\Local\\Temp\\ipykernel_18448\\1017872211.py:30: FutureWarning: The frame.append method is deprecated and will be removed from pandas in a future version. Use pandas.concat instead.\n",
      "  df = df.append(series, ignore_index=True)\n",
      "C:\\Users\\rladl\\AppData\\Local\\Temp\\ipykernel_18448\\1017872211.py:30: FutureWarning: The frame.append method is deprecated and will be removed from pandas in a future version. Use pandas.concat instead.\n",
      "  df = df.append(series, ignore_index=True)\n",
      "C:\\Users\\rladl\\AppData\\Local\\Temp\\ipykernel_18448\\1017872211.py:30: FutureWarning: The frame.append method is deprecated and will be removed from pandas in a future version. Use pandas.concat instead.\n",
      "  df = df.append(series, ignore_index=True)\n",
      "C:\\Users\\rladl\\AppData\\Local\\Temp\\ipykernel_18448\\1017872211.py:30: FutureWarning: The frame.append method is deprecated and will be removed from pandas in a future version. Use pandas.concat instead.\n",
      "  df = df.append(series, ignore_index=True)\n",
      "C:\\Users\\rladl\\AppData\\Local\\Temp\\ipykernel_18448\\1017872211.py:30: FutureWarning: The frame.append method is deprecated and will be removed from pandas in a future version. Use pandas.concat instead.\n",
      "  df = df.append(series, ignore_index=True)\n",
      "C:\\Users\\rladl\\AppData\\Local\\Temp\\ipykernel_18448\\1017872211.py:37: DeprecationWarning: find_element_by_xpath is deprecated. Please use find_element(by=By.XPATH, value=xpath) instead\n",
      "  another_reviews = driver.find_element_by_xpath(\"//a[@data-page='\" + str(button_num) + \"']\")\n",
      "C:\\Users\\rladl\\AppData\\Local\\Temp\\ipykernel_18448\\1017872211.py:55: FutureWarning: The frame.append method is deprecated and will be removed from pandas in a future version. Use pandas.concat instead.\n",
      "  df = df.append(series, ignore_index=True)\n",
      "C:\\Users\\rladl\\AppData\\Local\\Temp\\ipykernel_18448\\1017872211.py:55: FutureWarning: The frame.append method is deprecated and will be removed from pandas in a future version. Use pandas.concat instead.\n",
      "  df = df.append(series, ignore_index=True)\n",
      "C:\\Users\\rladl\\AppData\\Local\\Temp\\ipykernel_18448\\1017872211.py:55: FutureWarning: The frame.append method is deprecated and will be removed from pandas in a future version. Use pandas.concat instead.\n",
      "  df = df.append(series, ignore_index=True)\n",
      "C:\\Users\\rladl\\AppData\\Local\\Temp\\ipykernel_18448\\1017872211.py:55: FutureWarning: The frame.append method is deprecated and will be removed from pandas in a future version. Use pandas.concat instead.\n",
      "  df = df.append(series, ignore_index=True)\n",
      "C:\\Users\\rladl\\AppData\\Local\\Temp\\ipykernel_18448\\1017872211.py:55: FutureWarning: The frame.append method is deprecated and will be removed from pandas in a future version. Use pandas.concat instead.\n",
      "  df = df.append(series, ignore_index=True)\n",
      "C:\\Users\\rladl\\AppData\\Local\\Temp\\ipykernel_18448\\1017872211.py:37: DeprecationWarning: find_element_by_xpath is deprecated. Please use find_element(by=By.XPATH, value=xpath) instead\n",
      "  another_reviews = driver.find_element_by_xpath(\"//a[@data-page='\" + str(button_num) + \"']\")\n",
      "C:\\Users\\rladl\\AppData\\Local\\Temp\\ipykernel_18448\\1017872211.py:55: FutureWarning: The frame.append method is deprecated and will be removed from pandas in a future version. Use pandas.concat instead.\n",
      "  df = df.append(series, ignore_index=True)\n",
      "C:\\Users\\rladl\\AppData\\Local\\Temp\\ipykernel_18448\\1017872211.py:55: FutureWarning: The frame.append method is deprecated and will be removed from pandas in a future version. Use pandas.concat instead.\n",
      "  df = df.append(series, ignore_index=True)\n",
      "C:\\Users\\rladl\\AppData\\Local\\Temp\\ipykernel_18448\\1017872211.py:55: FutureWarning: The frame.append method is deprecated and will be removed from pandas in a future version. Use pandas.concat instead.\n",
      "  df = df.append(series, ignore_index=True)\n",
      "C:\\Users\\rladl\\AppData\\Local\\Temp\\ipykernel_18448\\1017872211.py:55: FutureWarning: The frame.append method is deprecated and will be removed from pandas in a future version. Use pandas.concat instead.\n",
      "  df = df.append(series, ignore_index=True)\n",
      "C:\\Users\\rladl\\AppData\\Local\\Temp\\ipykernel_18448\\1017872211.py:55: FutureWarning: The frame.append method is deprecated and will be removed from pandas in a future version. Use pandas.concat instead.\n",
      "  df = df.append(series, ignore_index=True)\n",
      "C:\\Users\\rladl\\AppData\\Local\\Temp\\ipykernel_18448\\1017872211.py:37: DeprecationWarning: find_element_by_xpath is deprecated. Please use find_element(by=By.XPATH, value=xpath) instead\n",
      "  another_reviews = driver.find_element_by_xpath(\"//a[@data-page='\" + str(button_num) + \"']\")\n",
      "C:\\Users\\rladl\\AppData\\Local\\Temp\\ipykernel_18448\\1017872211.py:55: FutureWarning: The frame.append method is deprecated and will be removed from pandas in a future version. Use pandas.concat instead.\n",
      "  df = df.append(series, ignore_index=True)\n",
      "C:\\Users\\rladl\\AppData\\Local\\Temp\\ipykernel_18448\\1017872211.py:55: FutureWarning: The frame.append method is deprecated and will be removed from pandas in a future version. Use pandas.concat instead.\n",
      "  df = df.append(series, ignore_index=True)\n",
      "C:\\Users\\rladl\\AppData\\Local\\Temp\\ipykernel_18448\\1017872211.py:55: FutureWarning: The frame.append method is deprecated and will be removed from pandas in a future version. Use pandas.concat instead.\n",
      "  df = df.append(series, ignore_index=True)\n",
      "C:\\Users\\rladl\\AppData\\Local\\Temp\\ipykernel_18448\\1017872211.py:55: FutureWarning: The frame.append method is deprecated and will be removed from pandas in a future version. Use pandas.concat instead.\n",
      "  df = df.append(series, ignore_index=True)\n",
      "C:\\Users\\rladl\\AppData\\Local\\Temp\\ipykernel_18448\\1017872211.py:55: FutureWarning: The frame.append method is deprecated and will be removed from pandas in a future version. Use pandas.concat instead.\n",
      "  df = df.append(series, ignore_index=True)\n",
      "C:\\Users\\rladl\\AppData\\Local\\Temp\\ipykernel_18448\\1017872211.py:37: DeprecationWarning: find_element_by_xpath is deprecated. Please use find_element(by=By.XPATH, value=xpath) instead\n",
      "  another_reviews = driver.find_element_by_xpath(\"//a[@data-page='\" + str(button_num) + \"']\")\n",
      "C:\\Users\\rladl\\AppData\\Local\\Temp\\ipykernel_18448\\1017872211.py:55: FutureWarning: The frame.append method is deprecated and will be removed from pandas in a future version. Use pandas.concat instead.\n",
      "  df = df.append(series, ignore_index=True)\n",
      "C:\\Users\\rladl\\AppData\\Local\\Temp\\ipykernel_18448\\1017872211.py:55: FutureWarning: The frame.append method is deprecated and will be removed from pandas in a future version. Use pandas.concat instead.\n",
      "  df = df.append(series, ignore_index=True)\n",
      "C:\\Users\\rladl\\AppData\\Local\\Temp\\ipykernel_18448\\1017872211.py:55: FutureWarning: The frame.append method is deprecated and will be removed from pandas in a future version. Use pandas.concat instead.\n",
      "  df = df.append(series, ignore_index=True)\n",
      "C:\\Users\\rladl\\AppData\\Local\\Temp\\ipykernel_18448\\1017872211.py:30: FutureWarning: The frame.append method is deprecated and will be removed from pandas in a future version. Use pandas.concat instead.\n",
      "  df = df.append(series, ignore_index=True)\n",
      "C:\\Users\\rladl\\AppData\\Local\\Temp\\ipykernel_18448\\1017872211.py:30: FutureWarning: The frame.append method is deprecated and will be removed from pandas in a future version. Use pandas.concat instead.\n",
      "  df = df.append(series, ignore_index=True)\n",
      "C:\\Users\\rladl\\AppData\\Local\\Temp\\ipykernel_18448\\1017872211.py:30: FutureWarning: The frame.append method is deprecated and will be removed from pandas in a future version. Use pandas.concat instead.\n",
      "  df = df.append(series, ignore_index=True)\n",
      "C:\\Users\\rladl\\AppData\\Local\\Temp\\ipykernel_18448\\1017872211.py:30: FutureWarning: The frame.append method is deprecated and will be removed from pandas in a future version. Use pandas.concat instead.\n",
      "  df = df.append(series, ignore_index=True)\n",
      "C:\\Users\\rladl\\AppData\\Local\\Temp\\ipykernel_18448\\1017872211.py:30: FutureWarning: The frame.append method is deprecated and will be removed from pandas in a future version. Use pandas.concat instead.\n",
      "  df = df.append(series, ignore_index=True)\n",
      "C:\\Users\\rladl\\AppData\\Local\\Temp\\ipykernel_18448\\1017872211.py:37: DeprecationWarning: find_element_by_xpath is deprecated. Please use find_element(by=By.XPATH, value=xpath) instead\n",
      "  another_reviews = driver.find_element_by_xpath(\"//a[@data-page='\" + str(button_num) + \"']\")\n"
     ]
    },
    {
     "name": "stderr",
     "output_type": "stream",
     "text": [
      "C:\\Users\\rladl\\AppData\\Local\\Temp\\ipykernel_18448\\1017872211.py:55: FutureWarning: The frame.append method is deprecated and will be removed from pandas in a future version. Use pandas.concat instead.\n",
      "  df = df.append(series, ignore_index=True)\n",
      "C:\\Users\\rladl\\AppData\\Local\\Temp\\ipykernel_18448\\1017872211.py:55: FutureWarning: The frame.append method is deprecated and will be removed from pandas in a future version. Use pandas.concat instead.\n",
      "  df = df.append(series, ignore_index=True)\n",
      "C:\\Users\\rladl\\AppData\\Local\\Temp\\ipykernel_18448\\1017872211.py:55: FutureWarning: The frame.append method is deprecated and will be removed from pandas in a future version. Use pandas.concat instead.\n",
      "  df = df.append(series, ignore_index=True)\n",
      "C:\\Users\\rladl\\AppData\\Local\\Temp\\ipykernel_18448\\1017872211.py:55: FutureWarning: The frame.append method is deprecated and will be removed from pandas in a future version. Use pandas.concat instead.\n",
      "  df = df.append(series, ignore_index=True)\n",
      "C:\\Users\\rladl\\AppData\\Local\\Temp\\ipykernel_18448\\1017872211.py:55: FutureWarning: The frame.append method is deprecated and will be removed from pandas in a future version. Use pandas.concat instead.\n",
      "  df = df.append(series, ignore_index=True)\n",
      "C:\\Users\\rladl\\AppData\\Local\\Temp\\ipykernel_18448\\1017872211.py:37: DeprecationWarning: find_element_by_xpath is deprecated. Please use find_element(by=By.XPATH, value=xpath) instead\n",
      "  another_reviews = driver.find_element_by_xpath(\"//a[@data-page='\" + str(button_num) + \"']\")\n",
      "C:\\Users\\rladl\\AppData\\Local\\Temp\\ipykernel_18448\\1017872211.py:55: FutureWarning: The frame.append method is deprecated and will be removed from pandas in a future version. Use pandas.concat instead.\n",
      "  df = df.append(series, ignore_index=True)\n",
      "C:\\Users\\rladl\\AppData\\Local\\Temp\\ipykernel_18448\\1017872211.py:55: FutureWarning: The frame.append method is deprecated and will be removed from pandas in a future version. Use pandas.concat instead.\n",
      "  df = df.append(series, ignore_index=True)\n",
      "C:\\Users\\rladl\\AppData\\Local\\Temp\\ipykernel_18448\\1017872211.py:55: FutureWarning: The frame.append method is deprecated and will be removed from pandas in a future version. Use pandas.concat instead.\n",
      "  df = df.append(series, ignore_index=True)\n",
      "C:\\Users\\rladl\\AppData\\Local\\Temp\\ipykernel_18448\\1017872211.py:55: FutureWarning: The frame.append method is deprecated and will be removed from pandas in a future version. Use pandas.concat instead.\n",
      "  df = df.append(series, ignore_index=True)\n",
      "C:\\Users\\rladl\\AppData\\Local\\Temp\\ipykernel_18448\\1017872211.py:55: FutureWarning: The frame.append method is deprecated and will be removed from pandas in a future version. Use pandas.concat instead.\n",
      "  df = df.append(series, ignore_index=True)\n",
      "C:\\Users\\rladl\\AppData\\Local\\Temp\\ipykernel_18448\\1017872211.py:37: DeprecationWarning: find_element_by_xpath is deprecated. Please use find_element(by=By.XPATH, value=xpath) instead\n",
      "  another_reviews = driver.find_element_by_xpath(\"//a[@data-page='\" + str(button_num) + \"']\")\n",
      "C:\\Users\\rladl\\AppData\\Local\\Temp\\ipykernel_18448\\1017872211.py:55: FutureWarning: The frame.append method is deprecated and will be removed from pandas in a future version. Use pandas.concat instead.\n",
      "  df = df.append(series, ignore_index=True)\n",
      "C:\\Users\\rladl\\AppData\\Local\\Temp\\ipykernel_18448\\1017872211.py:55: FutureWarning: The frame.append method is deprecated and will be removed from pandas in a future version. Use pandas.concat instead.\n",
      "  df = df.append(series, ignore_index=True)\n",
      "C:\\Users\\rladl\\AppData\\Local\\Temp\\ipykernel_18448\\1017872211.py:55: FutureWarning: The frame.append method is deprecated and will be removed from pandas in a future version. Use pandas.concat instead.\n",
      "  df = df.append(series, ignore_index=True)\n",
      "C:\\Users\\rladl\\AppData\\Local\\Temp\\ipykernel_18448\\1017872211.py:55: FutureWarning: The frame.append method is deprecated and will be removed from pandas in a future version. Use pandas.concat instead.\n",
      "  df = df.append(series, ignore_index=True)\n",
      "C:\\Users\\rladl\\AppData\\Local\\Temp\\ipykernel_18448\\1017872211.py:55: FutureWarning: The frame.append method is deprecated and will be removed from pandas in a future version. Use pandas.concat instead.\n",
      "  df = df.append(series, ignore_index=True)\n",
      "C:\\Users\\rladl\\AppData\\Local\\Temp\\ipykernel_18448\\1017872211.py:37: DeprecationWarning: find_element_by_xpath is deprecated. Please use find_element(by=By.XPATH, value=xpath) instead\n",
      "  another_reviews = driver.find_element_by_xpath(\"//a[@data-page='\" + str(button_num) + \"']\")\n",
      "C:\\Users\\rladl\\AppData\\Local\\Temp\\ipykernel_18448\\1017872211.py:55: FutureWarning: The frame.append method is deprecated and will be removed from pandas in a future version. Use pandas.concat instead.\n",
      "  df = df.append(series, ignore_index=True)\n",
      "C:\\Users\\rladl\\AppData\\Local\\Temp\\ipykernel_18448\\1017872211.py:55: FutureWarning: The frame.append method is deprecated and will be removed from pandas in a future version. Use pandas.concat instead.\n",
      "  df = df.append(series, ignore_index=True)\n",
      "C:\\Users\\rladl\\AppData\\Local\\Temp\\ipykernel_18448\\1017872211.py:55: FutureWarning: The frame.append method is deprecated and will be removed from pandas in a future version. Use pandas.concat instead.\n",
      "  df = df.append(series, ignore_index=True)\n",
      "C:\\Users\\rladl\\AppData\\Local\\Temp\\ipykernel_18448\\1017872211.py:55: FutureWarning: The frame.append method is deprecated and will be removed from pandas in a future version. Use pandas.concat instead.\n",
      "  df = df.append(series, ignore_index=True)\n",
      "C:\\Users\\rladl\\AppData\\Local\\Temp\\ipykernel_18448\\1017872211.py:55: FutureWarning: The frame.append method is deprecated and will be removed from pandas in a future version. Use pandas.concat instead.\n",
      "  df = df.append(series, ignore_index=True)\n",
      "C:\\Users\\rladl\\AppData\\Local\\Temp\\ipykernel_18448\\1017872211.py:30: FutureWarning: The frame.append method is deprecated and will be removed from pandas in a future version. Use pandas.concat instead.\n",
      "  df = df.append(series, ignore_index=True)\n",
      "C:\\Users\\rladl\\AppData\\Local\\Temp\\ipykernel_18448\\1017872211.py:30: FutureWarning: The frame.append method is deprecated and will be removed from pandas in a future version. Use pandas.concat instead.\n",
      "  df = df.append(series, ignore_index=True)\n",
      "C:\\Users\\rladl\\AppData\\Local\\Temp\\ipykernel_18448\\1017872211.py:30: FutureWarning: The frame.append method is deprecated and will be removed from pandas in a future version. Use pandas.concat instead.\n",
      "  df = df.append(series, ignore_index=True)\n",
      "C:\\Users\\rladl\\AppData\\Local\\Temp\\ipykernel_18448\\1017872211.py:30: FutureWarning: The frame.append method is deprecated and will be removed from pandas in a future version. Use pandas.concat instead.\n",
      "  df = df.append(series, ignore_index=True)\n",
      "C:\\Users\\rladl\\AppData\\Local\\Temp\\ipykernel_18448\\1017872211.py:30: FutureWarning: The frame.append method is deprecated and will be removed from pandas in a future version. Use pandas.concat instead.\n",
      "  df = df.append(series, ignore_index=True)\n",
      "C:\\Users\\rladl\\AppData\\Local\\Temp\\ipykernel_18448\\1017872211.py:37: DeprecationWarning: find_element_by_xpath is deprecated. Please use find_element(by=By.XPATH, value=xpath) instead\n",
      "  another_reviews = driver.find_element_by_xpath(\"//a[@data-page='\" + str(button_num) + \"']\")\n",
      "C:\\Users\\rladl\\AppData\\Local\\Temp\\ipykernel_18448\\1017872211.py:55: FutureWarning: The frame.append method is deprecated and will be removed from pandas in a future version. Use pandas.concat instead.\n",
      "  df = df.append(series, ignore_index=True)\n",
      "C:\\Users\\rladl\\AppData\\Local\\Temp\\ipykernel_18448\\1017872211.py:55: FutureWarning: The frame.append method is deprecated and will be removed from pandas in a future version. Use pandas.concat instead.\n",
      "  df = df.append(series, ignore_index=True)\n",
      "C:\\Users\\rladl\\AppData\\Local\\Temp\\ipykernel_18448\\1017872211.py:55: FutureWarning: The frame.append method is deprecated and will be removed from pandas in a future version. Use pandas.concat instead.\n",
      "  df = df.append(series, ignore_index=True)\n",
      "C:\\Users\\rladl\\AppData\\Local\\Temp\\ipykernel_18448\\1017872211.py:55: FutureWarning: The frame.append method is deprecated and will be removed from pandas in a future version. Use pandas.concat instead.\n",
      "  df = df.append(series, ignore_index=True)\n",
      "C:\\Users\\rladl\\AppData\\Local\\Temp\\ipykernel_18448\\1017872211.py:55: FutureWarning: The frame.append method is deprecated and will be removed from pandas in a future version. Use pandas.concat instead.\n",
      "  df = df.append(series, ignore_index=True)\n",
      "C:\\Users\\rladl\\AppData\\Local\\Temp\\ipykernel_18448\\1017872211.py:37: DeprecationWarning: find_element_by_xpath is deprecated. Please use find_element(by=By.XPATH, value=xpath) instead\n",
      "  another_reviews = driver.find_element_by_xpath(\"//a[@data-page='\" + str(button_num) + \"']\")\n"
     ]
    },
    {
     "name": "stderr",
     "output_type": "stream",
     "text": [
      "C:\\Users\\rladl\\AppData\\Local\\Temp\\ipykernel_18448\\1017872211.py:55: FutureWarning: The frame.append method is deprecated and will be removed from pandas in a future version. Use pandas.concat instead.\n",
      "  df = df.append(series, ignore_index=True)\n",
      "C:\\Users\\rladl\\AppData\\Local\\Temp\\ipykernel_18448\\1017872211.py:55: FutureWarning: The frame.append method is deprecated and will be removed from pandas in a future version. Use pandas.concat instead.\n",
      "  df = df.append(series, ignore_index=True)\n",
      "C:\\Users\\rladl\\AppData\\Local\\Temp\\ipykernel_18448\\1017872211.py:55: FutureWarning: The frame.append method is deprecated and will be removed from pandas in a future version. Use pandas.concat instead.\n",
      "  df = df.append(series, ignore_index=True)\n",
      "C:\\Users\\rladl\\AppData\\Local\\Temp\\ipykernel_18448\\1017872211.py:55: FutureWarning: The frame.append method is deprecated and will be removed from pandas in a future version. Use pandas.concat instead.\n",
      "  df = df.append(series, ignore_index=True)\n",
      "C:\\Users\\rladl\\AppData\\Local\\Temp\\ipykernel_18448\\1017872211.py:55: FutureWarning: The frame.append method is deprecated and will be removed from pandas in a future version. Use pandas.concat instead.\n",
      "  df = df.append(series, ignore_index=True)\n",
      "C:\\Users\\rladl\\AppData\\Local\\Temp\\ipykernel_18448\\1017872211.py:37: DeprecationWarning: find_element_by_xpath is deprecated. Please use find_element(by=By.XPATH, value=xpath) instead\n",
      "  another_reviews = driver.find_element_by_xpath(\"//a[@data-page='\" + str(button_num) + \"']\")\n",
      "C:\\Users\\rladl\\AppData\\Local\\Temp\\ipykernel_18448\\1017872211.py:55: FutureWarning: The frame.append method is deprecated and will be removed from pandas in a future version. Use pandas.concat instead.\n",
      "  df = df.append(series, ignore_index=True)\n",
      "C:\\Users\\rladl\\AppData\\Local\\Temp\\ipykernel_18448\\1017872211.py:55: FutureWarning: The frame.append method is deprecated and will be removed from pandas in a future version. Use pandas.concat instead.\n",
      "  df = df.append(series, ignore_index=True)\n",
      "C:\\Users\\rladl\\AppData\\Local\\Temp\\ipykernel_18448\\1017872211.py:55: FutureWarning: The frame.append method is deprecated and will be removed from pandas in a future version. Use pandas.concat instead.\n",
      "  df = df.append(series, ignore_index=True)\n",
      "C:\\Users\\rladl\\AppData\\Local\\Temp\\ipykernel_18448\\1017872211.py:55: FutureWarning: The frame.append method is deprecated and will be removed from pandas in a future version. Use pandas.concat instead.\n",
      "  df = df.append(series, ignore_index=True)\n",
      "C:\\Users\\rladl\\AppData\\Local\\Temp\\ipykernel_18448\\1017872211.py:55: FutureWarning: The frame.append method is deprecated and will be removed from pandas in a future version. Use pandas.concat instead.\n",
      "  df = df.append(series, ignore_index=True)\n",
      "C:\\Users\\rladl\\AppData\\Local\\Temp\\ipykernel_18448\\1017872211.py:37: DeprecationWarning: find_element_by_xpath is deprecated. Please use find_element(by=By.XPATH, value=xpath) instead\n",
      "  another_reviews = driver.find_element_by_xpath(\"//a[@data-page='\" + str(button_num) + \"']\")\n",
      "C:\\Users\\rladl\\AppData\\Local\\Temp\\ipykernel_18448\\1017872211.py:55: FutureWarning: The frame.append method is deprecated and will be removed from pandas in a future version. Use pandas.concat instead.\n",
      "  df = df.append(series, ignore_index=True)\n",
      "C:\\Users\\rladl\\AppData\\Local\\Temp\\ipykernel_18448\\1017872211.py:55: FutureWarning: The frame.append method is deprecated and will be removed from pandas in a future version. Use pandas.concat instead.\n",
      "  df = df.append(series, ignore_index=True)\n",
      "C:\\Users\\rladl\\AppData\\Local\\Temp\\ipykernel_18448\\1017872211.py:55: FutureWarning: The frame.append method is deprecated and will be removed from pandas in a future version. Use pandas.concat instead.\n",
      "  df = df.append(series, ignore_index=True)\n",
      "C:\\Users\\rladl\\AppData\\Local\\Temp\\ipykernel_18448\\1017872211.py:55: FutureWarning: The frame.append method is deprecated and will be removed from pandas in a future version. Use pandas.concat instead.\n",
      "  df = df.append(series, ignore_index=True)\n",
      "C:\\Users\\rladl\\AppData\\Local\\Temp\\ipykernel_18448\\1017872211.py:55: FutureWarning: The frame.append method is deprecated and will be removed from pandas in a future version. Use pandas.concat instead.\n",
      "  df = df.append(series, ignore_index=True)\n"
     ]
    }
   ],
   "source": [
    "from tqdm import tqdm_notebook\n",
    "columns = ['score', 'review']\n",
    "df = pd.DataFrame(columns=columns)\n",
    "\n",
    "driver = webdriver.Chrome(path)\n",
    "for page_url in tqdm_notebook(page_urls):\n",
    "    \n",
    "    # 상세보기 페이지에 접속\n",
    "    driver.get(page_url)\n",
    "    time.sleep(2)\n",
    "    \n",
    "    # 첫 페이지 리뷰를 크롤링\n",
    "    html = driver.page_source\n",
    "    soup = BeautifulSoup(html, 'html.parser')\n",
    "    # 리뷰 박스 파싱\n",
    "    contents_div = soup.find(name='div', attrs={'class':'evaluation_review'})\n",
    "    \n",
    "    if (soup.find(name='span', attrs={'class':'txt_blind'})):\n",
    "        continue\n",
    "    \n",
    "    # 별점 가져오기\n",
    "    rates = contents_div.find_all(name='em', attrs={'class':'num_rate'})\n",
    "    \n",
    "    # 리뷰 가져오기\n",
    "    reviews = contents_div.find_all(name='p', attrs={'class':'txt_comment'})\n",
    "    \n",
    "    for rate, review in zip(rates, reviews):\n",
    "        row = [rate.text[0], review.find(name='span').text]\n",
    "        series = pd.Series(row, index=df.columns)\n",
    "        df = df.append(series, ignore_index=True)\n",
    "    \n",
    "    # 2-5 페이지의 리뷰를 크롤링\n",
    "    for button_num in range(2,6):\n",
    "        \n",
    "        # 오류가 나는 경우, 수행하지 않기\n",
    "        try:\n",
    "            another_reviews = driver.find_element_by_xpath(\"//a[@data-page='\" + str(button_num) + \"']\")\n",
    "            another_reviews.click()\n",
    "            time.sleep(2)\n",
    "            \n",
    "            # 페이지 리뷰를 크롤링합니다\n",
    "            html = driver.page_source\n",
    "            soup = BeautifulSoup(html, 'html.parser')\n",
    "            contents_div = soup.find(name=\"div\", attrs={\"class\":\"evaluation_review\"})\n",
    "\n",
    "            # 별점을 가져옵니다.\n",
    "            rates = contents_div.find_all(name=\"em\", attrs={\"class\":\"num_rate\"})\n",
    "\n",
    "            # 리뷰를 가져옵니다.\n",
    "            reviews = contents_div.find_all(name=\"p\", attrs={\"class\":\"txt_comment\"})\n",
    "\n",
    "            for rate, review in zip(rates, reviews):\n",
    "                row = [rate.text[0], review.find(name=\"span\").text]\n",
    "                series = pd.Series(row, index=df.columns)\n",
    "                df = df.append(series, ignore_index=True)\n",
    "        except:\n",
    "            break    \n",
    "driver.close()"
   ]
  },
  {
   "cell_type": "code",
   "execution_count": 10,
   "id": "818e808e",
   "metadata": {},
   "outputs": [
    {
     "name": "stdout",
     "output_type": "stream",
     "text": [
      "(285, 3)\n"
     ]
    },
    {
     "data": {
      "text/html": [
       "<div>\n",
       "<style scoped>\n",
       "    .dataframe tbody tr th:only-of-type {\n",
       "        vertical-align: middle;\n",
       "    }\n",
       "\n",
       "    .dataframe tbody tr th {\n",
       "        vertical-align: top;\n",
       "    }\n",
       "\n",
       "    .dataframe thead th {\n",
       "        text-align: right;\n",
       "    }\n",
       "</style>\n",
       "<table border=\"1\" class=\"dataframe\">\n",
       "  <thead>\n",
       "    <tr style=\"text-align: right;\">\n",
       "      <th></th>\n",
       "      <th>score</th>\n",
       "      <th>review</th>\n",
       "      <th>y</th>\n",
       "    </tr>\n",
       "  </thead>\n",
       "  <tbody>\n",
       "    <tr>\n",
       "      <th>0</th>\n",
       "      <td>1</td>\n",
       "      <td>친절은 기대도 하지 마세요....진짜 말을 어덯게....화가 나네요</td>\n",
       "      <td>0</td>\n",
       "    </tr>\n",
       "    <tr>\n",
       "      <th>1</th>\n",
       "      <td>1</td>\n",
       "      <td>돈이 너무 많아서 주체가 안 되면 가세요.... 고기에서 반지하 물 냄새, 닭냄새가...</td>\n",
       "      <td>0</td>\n",
       "    </tr>\n",
       "    <tr>\n",
       "      <th>2</th>\n",
       "      <td>1</td>\n",
       "      <td>다른데 1인분이 여기 2인분임 ㅋㅋ 가격도 비싸고 알바생들 노느라 서비스 엉망임. ...</td>\n",
       "      <td>0</td>\n",
       "    </tr>\n",
       "    <tr>\n",
       "      <th>3</th>\n",
       "      <td>1</td>\n",
       "      <td>옛날에 장인닭갈비 정말 맛있었는데ㅠ 이제는 닭도 덜 익은데다가 양념도 너무 과하게 ...</td>\n",
       "      <td>0</td>\n",
       "    </tr>\n",
       "    <tr>\n",
       "      <th>4</th>\n",
       "      <td>1</td>\n",
       "      <td>초심잃었습니다..  제가알던 장인은 어디가고 아마추어 닭갈비가 되어버린 안타까운 식...</td>\n",
       "      <td>0</td>\n",
       "    </tr>\n",
       "  </tbody>\n",
       "</table>\n",
       "</div>"
      ],
      "text/plain": [
       "  score                                             review  y\n",
       "0     1              친절은 기대도 하지 마세요....진짜 말을 어덯게....화가 나네요  0\n",
       "1     1  돈이 너무 많아서 주체가 안 되면 가세요.... 고기에서 반지하 물 냄새, 닭냄새가...  0\n",
       "2     1  다른데 1인분이 여기 2인분임 ㅋㅋ 가격도 비싸고 알바생들 노느라 서비스 엉망임. ...  0\n",
       "3     1  옛날에 장인닭갈비 정말 맛있었는데ㅠ 이제는 닭도 덜 익은데다가 양념도 너무 과하게 ...  0\n",
       "4     1  초심잃었습니다..  제가알던 장인은 어디가고 아마추어 닭갈비가 되어버린 안타까운 식...  0"
      ]
     },
     "execution_count": 10,
     "metadata": {},
     "output_type": "execute_result"
    }
   ],
   "source": [
    "# 4점 이상의 리뷰는 긍정 리뷰, 3점 이하의 리뷰는 부정 리뷰로 평가\n",
    "df['y'] = df['score'].apply(lambda x: 1 if float(x) > 3 else 0)\n",
    "print(df.shape)\n",
    "df.head()"
   ]
  },
  {
   "cell_type": "code",
   "execution_count": 11,
   "id": "96844d0a",
   "metadata": {},
   "outputs": [],
   "source": [
    "df.to_csv('review_data.csv', index=False)"
   ]
  },
  {
   "cell_type": "markdown",
   "id": "c10a4d84",
   "metadata": {},
   "source": [
    "## TF-IDF를 이용한 핵심어 추출\n",
    "### [형태소 추출하기]\n",
    "한글 텍스트로 전처리"
   ]
  },
  {
   "cell_type": "code",
   "execution_count": 2,
   "id": "14d71fba",
   "metadata": {},
   "outputs": [
    {
     "data": {
      "text/html": [
       "<div>\n",
       "<style scoped>\n",
       "    .dataframe tbody tr th:only-of-type {\n",
       "        vertical-align: middle;\n",
       "    }\n",
       "\n",
       "    .dataframe tbody tr th {\n",
       "        vertical-align: top;\n",
       "    }\n",
       "\n",
       "    .dataframe thead th {\n",
       "        text-align: right;\n",
       "    }\n",
       "</style>\n",
       "<table border=\"1\" class=\"dataframe\">\n",
       "  <thead>\n",
       "    <tr style=\"text-align: right;\">\n",
       "      <th></th>\n",
       "      <th>score</th>\n",
       "      <th>review</th>\n",
       "      <th>y</th>\n",
       "    </tr>\n",
       "  </thead>\n",
       "  <tbody>\n",
       "    <tr>\n",
       "      <th>0</th>\n",
       "      <td>1</td>\n",
       "      <td>친절은 기대도 하지 마세요....진짜 말을 어덯게....화가 나네요</td>\n",
       "      <td>0</td>\n",
       "    </tr>\n",
       "    <tr>\n",
       "      <th>1</th>\n",
       "      <td>1</td>\n",
       "      <td>돈이 너무 많아서 주체가 안 되면 가세요.... 고기에서 반지하 물 냄새, 닭냄새가...</td>\n",
       "      <td>0</td>\n",
       "    </tr>\n",
       "    <tr>\n",
       "      <th>2</th>\n",
       "      <td>1</td>\n",
       "      <td>다른데 1인분이 여기 2인분임 ㅋㅋ 가격도 비싸고 알바생들 노느라 서비스 엉망임. ...</td>\n",
       "      <td>0</td>\n",
       "    </tr>\n",
       "    <tr>\n",
       "      <th>3</th>\n",
       "      <td>1</td>\n",
       "      <td>옛날에 장인닭갈비 정말 맛있었는데ㅠ 이제는 닭도 덜 익은데다가 양념도 너무 과하게 ...</td>\n",
       "      <td>0</td>\n",
       "    </tr>\n",
       "    <tr>\n",
       "      <th>4</th>\n",
       "      <td>1</td>\n",
       "      <td>초심잃었습니다..  제가알던 장인은 어디가고 아마추어 닭갈비가 되어버린 안타까운 식...</td>\n",
       "      <td>0</td>\n",
       "    </tr>\n",
       "  </tbody>\n",
       "</table>\n",
       "</div>"
      ],
      "text/plain": [
       "   score                                             review  y\n",
       "0      1              친절은 기대도 하지 마세요....진짜 말을 어덯게....화가 나네요  0\n",
       "1      1  돈이 너무 많아서 주체가 안 되면 가세요.... 고기에서 반지하 물 냄새, 닭냄새가...  0\n",
       "2      1  다른데 1인분이 여기 2인분임 ㅋㅋ 가격도 비싸고 알바생들 노느라 서비스 엉망임. ...  0\n",
       "3      1  옛날에 장인닭갈비 정말 맛있었는데ㅠ 이제는 닭도 덜 익은데다가 양념도 너무 과하게 ...  0\n",
       "4      1  초심잃었습니다..  제가알던 장인은 어디가고 아마추어 닭갈비가 되어버린 안타까운 식...  0"
      ]
     },
     "execution_count": 2,
     "metadata": {},
     "output_type": "execute_result"
    }
   ],
   "source": [
    "df = pd.read_csv('review_data.csv')\n",
    "df.head()"
   ]
  },
  {
   "cell_type": "code",
   "execution_count": 3,
   "id": "6283d204",
   "metadata": {},
   "outputs": [],
   "source": [
    "import re\n",
    "\n",
    "# 텍스트 정제 함수 : 한글 이외의 문자는 전부 제거\n",
    "def text_cleaning(text):\n",
    "    # 한글의 정규표현식으로 한글만 추출합니다.\n",
    "    hangul = re.compile('[^ ㄱ-ㅣ가-힣]+')\n",
    "    result = hangul.sub('', str(text))\n",
    "    return result"
   ]
  },
  {
   "cell_type": "code",
   "execution_count": 4,
   "id": "49482c33",
   "metadata": {},
   "outputs": [
    {
     "name": "stdout",
     "output_type": "stream",
     "text": [
      "<class 'pandas.core.frame.DataFrame'>\n",
      "RangeIndex: 285 entries, 0 to 284\n",
      "Data columns (total 3 columns):\n",
      " #   Column  Non-Null Count  Dtype \n",
      "---  ------  --------------  ----- \n",
      " 0   score   285 non-null    int64 \n",
      " 1   review  231 non-null    object\n",
      " 2   y       285 non-null    int64 \n",
      "dtypes: int64(2), object(1)\n",
      "memory usage: 6.8+ KB\n"
     ]
    }
   ],
   "source": [
    "df.info()"
   ]
  },
  {
   "cell_type": "code",
   "execution_count": 5,
   "id": "bfc39584",
   "metadata": {},
   "outputs": [
    {
     "data": {
      "text/html": [
       "<div>\n",
       "<style scoped>\n",
       "    .dataframe tbody tr th:only-of-type {\n",
       "        vertical-align: middle;\n",
       "    }\n",
       "\n",
       "    .dataframe tbody tr th {\n",
       "        vertical-align: top;\n",
       "    }\n",
       "\n",
       "    .dataframe thead th {\n",
       "        text-align: right;\n",
       "    }\n",
       "</style>\n",
       "<table border=\"1\" class=\"dataframe\">\n",
       "  <thead>\n",
       "    <tr style=\"text-align: right;\">\n",
       "      <th></th>\n",
       "      <th>score</th>\n",
       "      <th>y</th>\n",
       "      <th>ko_text</th>\n",
       "    </tr>\n",
       "  </thead>\n",
       "  <tbody>\n",
       "    <tr>\n",
       "      <th>0</th>\n",
       "      <td>1</td>\n",
       "      <td>0</td>\n",
       "      <td>친절은 기대도 하지 마세요진짜 말을 어덯게화가 나네요</td>\n",
       "    </tr>\n",
       "    <tr>\n",
       "      <th>1</th>\n",
       "      <td>1</td>\n",
       "      <td>0</td>\n",
       "      <td>돈이 너무 많아서 주체가 안 되면 가세요 고기에서 반지하 물 냄새 닭냄새가 섞인 냄...</td>\n",
       "    </tr>\n",
       "    <tr>\n",
       "      <th>2</th>\n",
       "      <td>1</td>\n",
       "      <td>0</td>\n",
       "      <td>다른데 인분이 여기 인분임 ㅋㅋ 가격도 비싸고 알바생들 노느라 서비스 엉망임 제대로...</td>\n",
       "    </tr>\n",
       "    <tr>\n",
       "      <th>3</th>\n",
       "      <td>1</td>\n",
       "      <td>0</td>\n",
       "      <td>옛날에 장인닭갈비 정말 맛있었는데ㅠ 이제는 닭도 덜 익은데다가 양념도 너무 과하게 ...</td>\n",
       "    </tr>\n",
       "    <tr>\n",
       "      <th>4</th>\n",
       "      <td>1</td>\n",
       "      <td>0</td>\n",
       "      <td>초심잃었습니다  제가알던 장인은 어디가고 아마추어 닭갈비가 되어버린 안타까운 식사였...</td>\n",
       "    </tr>\n",
       "  </tbody>\n",
       "</table>\n",
       "</div>"
      ],
      "text/plain": [
       "   score  y                                            ko_text\n",
       "0      1  0                      친절은 기대도 하지 마세요진짜 말을 어덯게화가 나네요\n",
       "1      1  0  돈이 너무 많아서 주체가 안 되면 가세요 고기에서 반지하 물 냄새 닭냄새가 섞인 냄...\n",
       "2      1  0  다른데 인분이 여기 인분임 ㅋㅋ 가격도 비싸고 알바생들 노느라 서비스 엉망임 제대로...\n",
       "3      1  0  옛날에 장인닭갈비 정말 맛있었는데ㅠ 이제는 닭도 덜 익은데다가 양념도 너무 과하게 ...\n",
       "4      1  0  초심잃었습니다  제가알던 장인은 어디가고 아마추어 닭갈비가 되어버린 안타까운 식사였..."
      ]
     },
     "execution_count": 5,
     "metadata": {},
     "output_type": "execute_result"
    }
   ],
   "source": [
    "# 함수를 적용하여 리뷰에서 한글만 추출합니다.\n",
    "df['ko_text'] = df['review'].apply(lambda x: text_cleaning(x))\n",
    "del df['review']\n",
    "\n",
    "# 한 글자 이상의 텍스트를 가지고 있는 데이터만 추출합니다\n",
    "df = df[df['ko_text'].str.len() > 0]\n",
    "df.head()"
   ]
  },
  {
   "cell_type": "markdown",
   "id": "b0be96e7",
   "metadata": {},
   "source": [
    "형태소 단위로 추출"
   ]
  },
  {
   "cell_type": "code",
   "execution_count": 6,
   "id": "dec02558",
   "metadata": {},
   "outputs": [
    {
     "name": "stdout",
     "output_type": "stream",
     "text": [
      "['친절/Noun', '은/Josa', '기대도/Verb', '하지/Verb', '마세요/Verb', '진짜/Noun', '말/Noun', '을/Josa', '어덯게화/Noun', '가/Josa', '나네요/Verb']\n"
     ]
    }
   ],
   "source": [
    "from konlpy.tag import Okt\n",
    "\n",
    "# konlypy 라이브러리로 텍스트 데이터에서 형태소를 추출\n",
    "def get_pos(x):\n",
    "    tagger = Okt()\n",
    "    pos = tagger.pos(x)\n",
    "    pos = ['{}/{}'.format(word, tag) for word, tag in pos]\n",
    "    return pos\n",
    "\n",
    "# 형태소 추출 동작을 테스트\n",
    "result = get_pos(df['ko_text'].values[0])\n",
    "print(result)"
   ]
  },
  {
   "cell_type": "markdown",
   "id": "456d8801",
   "metadata": {},
   "source": [
    "### [분류 모델의 학습 데이터로 변환하기]\n",
    "corpus index 생성하기"
   ]
  },
  {
   "cell_type": "code",
   "execution_count": 7,
   "id": "7ff8fdaf",
   "metadata": {},
   "outputs": [],
   "source": [
    "from sklearn.feature_extraction.text import CountVectorizer\n",
    "\n",
    "# 형태소를 벡터 형태의 학습 데이터셋(x 데이터) 으로 변환\n",
    "index_vectorizer = CountVectorizer(tokenizer = lambda x :get_pos(x))\n",
    "x = index_vectorizer.fit_transform(df['ko_text'].tolist())"
   ]
  },
  {
   "cell_type": "code",
   "execution_count": 8,
   "id": "e4808c52",
   "metadata": {},
   "outputs": [
    {
     "data": {
      "text/plain": [
       "(230, 2072)"
      ]
     },
     "execution_count": 8,
     "metadata": {},
     "output_type": "execute_result"
    }
   ],
   "source": [
    "x.shape"
   ]
  },
  {
   "cell_type": "code",
   "execution_count": 9,
   "id": "7593be40",
   "metadata": {},
   "outputs": [
    {
     "name": "stdout",
     "output_type": "stream",
     "text": [
      "{'친절/Noun': 1831, '은/Josa': 1440, '기대도/Verb': 280, '하지/Verb': 1966, '마세요/Verb': 624, '진짜/Noun': 1745..\n"
     ]
    }
   ],
   "source": [
    "print(str(index_vectorizer.vocabulary_)[:100]+\"..\")"
   ]
  },
  {
   "cell_type": "code",
   "execution_count": 10,
   "id": "060029ab",
   "metadata": {},
   "outputs": [
    {
     "name": "stdout",
     "output_type": "stream",
     "text": [
      "친절은 기대도 하지 마세요진짜 말을 어덯게화가 나네요\n",
      "  (0, 1831)\t1\n",
      "  (0, 1440)\t1\n",
      "  (0, 280)\t1\n",
      "  (0, 1966)\t1\n",
      "  (0, 624)\t1\n",
      "  (0, 1745)\t1\n",
      "  (0, 659)\t1\n",
      "  (0, 1441)\t1\n",
      "  (0, 1279)\t1\n",
      "  (0, 17)\t1\n",
      "  (0, 342)\t1\n"
     ]
    }
   ],
   "source": [
    "print(df['ko_text'].values[0])\n",
    "print(x[0])"
   ]
  },
  {
   "cell_type": "code",
   "execution_count": 11,
   "id": "f2319683",
   "metadata": {},
   "outputs": [
    {
     "name": "stdout",
     "output_type": "stream",
     "text": [
      "<class 'pandas.core.frame.DataFrame'>\n",
      "Int64Index: 230 entries, 0 to 284\n",
      "Data columns (total 3 columns):\n",
      " #   Column   Non-Null Count  Dtype \n",
      "---  ------   --------------  ----- \n",
      " 0   score    230 non-null    int64 \n",
      " 1   y        230 non-null    int64 \n",
      " 2   ko_text  230 non-null    object\n",
      "dtypes: int64(2), object(1)\n",
      "memory usage: 7.2+ KB\n"
     ]
    }
   ],
   "source": [
    "df.info()"
   ]
  },
  {
   "cell_type": "markdown",
   "id": "d562a423",
   "metadata": {},
   "source": [
    "TF-IDF로 변환"
   ]
  },
  {
   "cell_type": "code",
   "execution_count": 12,
   "id": "709e89d2",
   "metadata": {},
   "outputs": [],
   "source": [
    "from sklearn.feature_extraction.text import TfidfTransformer\n",
    "\n",
    "# TF-IDF 방법으로, 형태소를 벡터 형태의 학습 데이터셋 (x 데이터)로 변환\n",
    "tfidf_vectorizer = TfidfTransformer()\n",
    "x = tfidf_vectorizer.fit_transform(x)"
   ]
  },
  {
   "cell_type": "code",
   "execution_count": 13,
   "id": "6682a4ad",
   "metadata": {},
   "outputs": [
    {
     "name": "stdout",
     "output_type": "stream",
     "text": [
      "(230, 2072)\n",
      "  (0, 1966)\t0.3208578482672262\n",
      "  (0, 1831)\t0.3547711724127507\n",
      "  (0, 1745)\t0.21954413243754248\n",
      "  (0, 1441)\t0.21954413243754248\n",
      "  (0, 1440)\t0.160467172350986\n",
      "  (0, 1279)\t0.3816896921604434\n",
      "  (0, 659)\t0.24792181506438546\n",
      "  (0, 624)\t0.3547711724127507\n",
      "  (0, 342)\t0.3816896921604434\n",
      "  (0, 280)\t0.3816896921604434\n",
      "  (0, 17)\t0.15700259993975038\n"
     ]
    }
   ],
   "source": [
    "print(x.shape)\n",
    "print(x[0])"
   ]
  },
  {
   "cell_type": "markdown",
   "id": "a30b08a0",
   "metadata": {},
   "source": [
    "## 긍정 부정 리뷰 분류하기\n",
    "### [분류 모델링]\n",
    "\n",
    "데이터셋 분리"
   ]
  },
  {
   "cell_type": "code",
   "execution_count": 14,
   "id": "d7e75184",
   "metadata": {},
   "outputs": [
    {
     "name": "stdout",
     "output_type": "stream",
     "text": [
      "(161, 2072)\n",
      "(69, 2072)\n",
      "(161,)\n",
      "(69,)\n"
     ]
    }
   ],
   "source": [
    "from sklearn.model_selection import train_test_split\n",
    "\n",
    "y = df['y']\n",
    "x_train, x_test, y_train, y_test = train_test_split(x, y, test_size=0.3)\n",
    "print(x_train.shape)\n",
    "print(x_test.shape)\n",
    "print(y_train.shape)\n",
    "print(y_test.shape)"
   ]
  },
  {
   "cell_type": "markdown",
   "id": "a3827b56",
   "metadata": {},
   "source": [
    "Logistic Regression"
   ]
  },
  {
   "cell_type": "code",
   "execution_count": 15,
   "id": "e0bebced",
   "metadata": {},
   "outputs": [
    {
     "name": "stdout",
     "output_type": "stream",
     "text": [
      "accuracy: 0.57\n",
      "Precision : 0.552\n",
      "Recall : 1.000\n",
      "F1 : 0.712\n"
     ]
    }
   ],
   "source": [
    "from sklearn.linear_model import LogisticRegression\n",
    "from sklearn.metrics import accuracy_score, precision_score, recall_score, f1_score\n",
    "\n",
    "# 로지스틱 회귀 모델을 학습\n",
    "lr = LogisticRegression(random_state=112)\n",
    "lr.fit(x_train, y_train)\n",
    "y_pred = lr.predict(x_test)\n",
    "y_pred_probability = lr.predict_proba(x_test)[:,1]\n",
    "\n",
    "# 로지스틱 회귀모델의 성능을 평가\n",
    "print(\"accuracy: %.2f\" % accuracy_score(y_test, y_pred))\n",
    "print(\"Precision : %.3f\" % precision_score(y_test, y_pred))\n",
    "print(\"Recall : %.3f\" % recall_score(y_test, y_pred))\n",
    "print(\"F1 : %.3f\" % f1_score(y_test, y_pred))"
   ]
  },
  {
   "cell_type": "code",
   "execution_count": 16,
   "id": "cf44de8a",
   "metadata": {},
   "outputs": [
    {
     "name": "stdout",
     "output_type": "stream",
     "text": [
      "[[ 2 30]\n",
      " [ 0 37]]\n"
     ]
    }
   ],
   "source": [
    "from sklearn.metrics import confusion_matrix\n",
    "\n",
    "confmat = confusion_matrix(y_true=y_test, y_pred=y_pred)\n",
    "print(confmat)"
   ]
  },
  {
   "cell_type": "code",
   "execution_count": 17,
   "id": "b0f7776b",
   "metadata": {},
   "outputs": [
    {
     "name": "stdout",
     "output_type": "stream",
     "text": [
      "AUC : 0.878\n"
     ]
    },
    {
     "data": {
      "text/plain": [
       "<matplotlib.legend.Legend at 0x1b9cd953520>"
      ]
     },
     "execution_count": 17,
     "metadata": {},
     "output_type": "execute_result"
    },
    {
     "data": {
      "image/png": "[encoded data removed]",
      "text/plain": [
       "<Figure size 360x288 with 1 Axes>"
      ]
     },
     "metadata": {
      "needs_background": "light"
     },
     "output_type": "display_data"
    }
   ],
   "source": [
    "from sklearn.metrics import roc_curve, roc_auc_score\n",
    "\n",
    "# AUC를 계산합니다.\n",
    "false_positive_rate, true_positive_rate, thresholds = roc_curve(y_test, y_pred_probability)\n",
    "roc_auc = roc_auc_score(y_test, y_pred_probability)\n",
    "print(\"AUC : %.3f\" % roc_auc)\n",
    "\n",
    "# ROC curve 그래프를 출력합니다.\n",
    "plt.rcParams['figure.figsize'] = [5, 4]\n",
    "plt.plot(false_positive_rate, true_positive_rate, label='ROC curve (area = %0.3f)' % roc_auc, \n",
    "         color='red', linewidth=4.0)\n",
    "plt.plot([0, 1], [0, 1], 'k--')\n",
    "plt.xlim([0.0, 1.0])\n",
    "plt.ylim([0.0, 1.0])\n",
    "plt.xlabel('False Positive Rate')\n",
    "plt.ylabel('True Positive Rate')\n",
    "plt.title('ROC curve of Logistic regression')\n",
    "plt.legend(loc=\"lower right\")"
   ]
  },
  {
   "cell_type": "markdown",
   "id": "68d457b7",
   "metadata": {},
   "source": [
    "## 중요 키워드 분석\n",
    "### [회귀 모델의 피처 영향력 추출]"
   ]
  },
  {
   "cell_type": "code",
   "execution_count": 19,
   "id": "d933e61c",
   "metadata": {},
   "outputs": [
    {
     "data": {
      "text/plain": [
       "<BarContainer object of 2072 artists>"
      ]
     },
     "execution_count": 19,
     "metadata": {},
     "output_type": "execute_result"
    },
    {
     "data": {
      "image/png": "[encoded data removed]",
      "text/plain": [
       "<Figure size 720x576 with 1 Axes>"
      ]
     },
     "metadata": {
      "needs_background": "light"
     },
     "output_type": "display_data"
    }
   ],
   "source": [
    "# 학습한 회귀 모델의 계수를 출력\n",
    "plt.rcParams['figure.figsize'] = [10, 8]\n",
    "plt.bar(range(len(lr.coef_[0])), lr.coef_[0])"
   ]
  },
  {
   "cell_type": "code",
   "execution_count": 20,
   "id": "507069aa",
   "metadata": {},
   "outputs": [
    {
     "name": "stdout",
     "output_type": "stream",
     "text": [
      "[(0.960928305645294, 683), (0.710063386534153, 691), (0.599884788846977, 1657), (0.5871320878456474, 1671), (0.5817613947526128, 675)]\n",
      "[(-0.4881259029350141, 1636), (-0.5151445529204262, 929), (-0.5311281793396356, 17), (-0.5650403317646786, 394), (-0.57450692538119, 1454)]\n"
     ]
    }
   ],
   "source": [
    "print(sorted(((value, index) for index, value in enumerate(lr.coef_[0])), reverse=True)[:5])\n",
    "print(sorted(((value, index) for index, value in enumerate(lr.coef_[0])), reverse=True)[-5:])"
   ]
  },
  {
   "cell_type": "markdown",
   "id": "ce3ae95c",
   "metadata": {},
   "source": [
    "### [중요 피처의 형태소]"
   ]
  },
  {
   "cell_type": "code",
   "execution_count": 21,
   "id": "08229580",
   "metadata": {},
   "outputs": [],
   "source": [
    "# 회귀 모델의 계수를 높은 순으로 정렬\n",
    "coef_pos_index = sorted(((value, index) for index, value in enumerate(lr.coef_[0])), reverse=True)"
   ]
  },
  {
   "cell_type": "code",
   "execution_count": 22,
   "id": "1474077e",
   "metadata": {},
   "outputs": [
    {
     "name": "stdout",
     "output_type": "stream",
     "text": [
      "{1831: '친절/Noun', 1440: '은/Josa', 280: '기대도/Verb', 1966: '하지/Verb', 624: '마세요/Verb', 1745: '진짜/Noun'..\n"
     ]
    }
   ],
   "source": [
    "# 회귀 모델의 계수를 index_vectorizer에 맵핑하여, 어떤 형태소인지 출력하게끔한다.\n",
    "invert_index_vectorizer = {v: k for k,v in index_vectorizer.vocabulary_.items()}\n",
    "\n",
    "# 계수가 높은 순으로, 피처에 형태소를 맵핑한 결과를 출력한다. 계수가 높은 피처는 리뷰에 긍정적인 영향을 끼친다고 할 수 있다.\n",
    "print(str(invert_index_vectorizer)[:100]+'..')"
   ]
  },
  {
   "cell_type": "code",
   "execution_count": 23,
   "id": "0d0ff0d0",
   "metadata": {},
   "outputs": [
    {
     "name": "stdout",
     "output_type": "stream",
     "text": [
      "맛있어요/Adjective 0.960928305645294\n",
      "맛있음/Adjective 0.710063386534153\n",
      "존맛/Noun 0.599884788846977\n",
      "좋아요/Adjective 0.5871320878456474\n",
      "맛있네요/Adjective 0.5817613947526128\n",
      "맛/Noun 0.5252108731910674\n",
      "잘/Verb 0.46647461330199314\n",
      "맛있다/Adjective 0.46565585193447234\n",
      "님/Suffix 0.4574172984187604\n",
      "맛있습니다/Adjective 0.43902795021256513\n",
      "도/Josa 0.430036737567788\n",
      "고깃집/Noun 0.4099865037784755\n",
      "구워주시고/Verb 0.39549449962893535\n",
      "추천/Noun 0.3751505115618294\n",
      "ㅎㅎ/KoreanParticle 0.37258231351038396\n",
      "맛집/Noun 0.3655590236054548\n",
      "맛있당/Adjective 0.3474691978500547\n",
      "된장찌개/Noun 0.32917910305219183\n",
      "다/Adverb 0.32887318204675575\n",
      "친절함/Adjective 0.327918078031153\n"
     ]
    }
   ],
   "source": [
    "# 상위 20개 긍정 형태소를 출력\n",
    "for coef in coef_pos_index[:20]:\n",
    "    print(invert_index_vectorizer[coef[1]], coef[0])"
   ]
  },
  {
   "cell_type": "code",
   "execution_count": 24,
   "id": "dfae42af",
   "metadata": {},
   "outputs": [
    {
     "name": "stdout",
     "output_type": "stream",
     "text": [
      "요/Josa -0.377957195754333\n",
      "식당/Noun -0.388076424375454\n",
      "만/Josa -0.3976899285664456\n",
      "곳/Noun -0.4006523586281667\n",
      "없음/Adjective -0.40298876716677323\n",
      "맛있는/Adjective -0.408457258551624\n",
      "알바생/Noun -0.42509342202392536\n",
      "없고/Adjective -0.4336059073189949\n",
      "말/Noun -0.4444298840937781\n",
      "임/Noun -0.45063834304339473\n",
      "로/Josa -0.4561692193418434\n",
      "하고/Josa -0.461914121203636\n",
      "괜찮았어/Adjective -0.4779746864014033\n",
      "그냥/Noun -0.4796384576988425\n",
      "안/VerbPrefix -0.4805369260493303\n",
      "정도/Noun -0.4881259029350141\n",
      "분/Noun -0.5151445529204262\n",
      "가/Josa -0.5311281793396356\n",
      "너무/Adverb -0.5650403317646786\n",
      "이/Noun -0.57450692538119\n"
     ]
    }
   ],
   "source": [
    "# 상위 20개 부정 형태소를 출력\n",
    "for coef in coef_pos_index[-20:]:\n",
    "    print(invert_index_vectorizer[coef[1]], coef[0])"
   ]
  },
  {
   "cell_type": "markdown",
   "id": "da56f824",
   "metadata": {},
   "source": [
    "### [품사별 긍정 / 부정 형태소 탐색하기]"
   ]
  },
  {
   "cell_type": "code",
   "execution_count": 25,
   "id": "ac1b67d3",
   "metadata": {},
   "outputs": [],
   "source": [
    "noun_list = []\n",
    "adjective_list = []\n",
    "\n",
    "# 명사, 형용사별로 계수가 높은 상위 10개의 형태소를 추출\n",
    "\n",
    "for coef in coef_pos_index[:100]:\n",
    "    pos_category = invert_index_vectorizer[coef[1]].split('/')[1]\n",
    "    if pos_category == \"Noun\":\n",
    "        noun_list.append((invert_index_vectorizer[coef[1]], coef[0]))\n",
    "    elif pos_category == \"Adjective\":\n",
    "        adjective_list.append((invert_index_vectorizer[coef[1]], coef[0]))"
   ]
  },
  {
   "cell_type": "code",
   "execution_count": 26,
   "id": "4c0e8cb5",
   "metadata": {},
   "outputs": [
    {
     "data": {
      "text/plain": [
       "[('존맛/Noun', 0.599884788846977),\n",
       " ('맛/Noun', 0.5252108731910674),\n",
       " ('고깃집/Noun', 0.4099865037784755),\n",
       " ('추천/Noun', 0.3751505115618294),\n",
       " ('맛집/Noun', 0.3655590236054548),\n",
       " ('된장찌개/Noun', 0.32917910305219183),\n",
       " ('최고/Noun', 0.32230064432378913),\n",
       " ('편/Noun', 0.2897323247323717),\n",
       " ('모/Noun', 0.278408898759001),\n",
       " ('치즈/Noun', 0.2701421092521351)]"
      ]
     },
     "execution_count": 26,
     "metadata": {},
     "output_type": "execute_result"
    }
   ],
   "source": [
    "noun_list[:10]"
   ]
  },
  {
   "cell_type": "code",
   "execution_count": 27,
   "id": "e3520faa",
   "metadata": {},
   "outputs": [
    {
     "data": {
      "text/plain": [
       "[('맛있어요/Adjective', 0.960928305645294),\n",
       " ('맛있음/Adjective', 0.710063386534153),\n",
       " ('좋아요/Adjective', 0.5871320878456474),\n",
       " ('맛있네요/Adjective', 0.5817613947526128),\n",
       " ('맛있다/Adjective', 0.46565585193447234),\n",
       " ('맛있습니다/Adjective', 0.43902795021256513),\n",
       " ('맛있당/Adjective', 0.3474691978500547),\n",
       " ('친절함/Adjective', 0.327918078031153),\n",
       " ('괜찮음/Adjective', 0.327918078031153),\n",
       " ('맛있고/Adjective', 0.3033613486293601)]"
      ]
     },
     "execution_count": 27,
     "metadata": {},
     "output_type": "execute_result"
    }
   ],
   "source": [
    "adjective_list[:10]"
   ]
  },
  {
   "cell_type": "code",
   "execution_count": 46,
   "id": "1f1912d4",
   "metadata": {},
   "outputs": [
    {
     "name": "stdout",
     "output_type": "stream",
     "text": [
      "는 싫고 한글은 하다  쵝오 ㅋㅑㅋㅑ \n"
     ]
    }
   ],
   "source": [
    "import re\n",
    "def test(s):\n",
    "    hangul = re.compile('[^ ㄱ-ㅣ가-힣+]') # 한글과 띄어쓰기를 제외한 모든 글자\n",
    "    result = hangul.sub('', s) # 한글과 띄어쓰기를 제외한 모든 부분을 제거\n",
    "    return(result)\n",
    "    \n",
    "s='''韓子는 싫고, 한글은 nice하다. E\n",
    "\n",
    "\n",
    "nglish 쵝오 -_-ㅋㅑㅋㅑ ./?!'''\n",
    "print(test(s))"
   ]
  },
  {
   "cell_type": "code",
   "execution_count": null,
   "id": "43e77cbe",
   "metadata": {},
   "outputs": [],
   "source": []
  }
 ],
 "metadata": {
  "kernelspec": {
   "display_name": "Python 3 (ipykernel)",
   "language": "python",
   "name": "python3"
  },
  "language_info": {
   "codemirror_mode": {
    "name": "ipython",
    "version": 3
   },
   "file_extension": ".py",
   "mimetype": "text/x-python",
   "name": "python",
   "nbconvert_exporter": "python",
   "pygments_lexer": "ipython3",
   "version": "3.9.12"
  }
 },
 "nbformat": 4,
 "nbformat_minor": 5
}
